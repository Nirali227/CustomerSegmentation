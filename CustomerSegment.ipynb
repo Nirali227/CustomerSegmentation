{
 "cells": [
  {
   "cell_type": "code",
   "execution_count": 1,
   "id": "b012a779-eed3-452c-a675-c3fd39e00105",
   "metadata": {},
   "outputs": [],
   "source": [
    "# Importing the relevent libraries and modules.\n",
    "import pandas as pd\n",
    "import numpy as np\n",
    "import matplotlib.pyplot as plt\n",
    "import seaborn as sns\n",
    "import plotly.express as px\n",
    "from sklearn.preprocessing import StandardScaler\n",
    "from sklearn import preprocessing\n",
    "\n",
    "from sklearn.cluster import KMeans\n",
    "from scipy import stats"
   ]
  },
  {
   "cell_type": "code",
   "execution_count": 2,
   "id": "c03244b0-702d-4c5b-9d2a-347bee874805",
   "metadata": {},
   "outputs": [],
   "source": [
    "import warnings\n",
    "warnings.filterwarnings('ignore')"
   ]
  },
  {
   "cell_type": "code",
   "execution_count": 3,
   "id": "a357b13d-1abd-45bb-9ec8-6d66a0ae80c4",
   "metadata": {},
   "outputs": [],
   "source": [
    "sns.set_palette(\"viridis\")"
   ]
  },
  {
   "cell_type": "code",
   "execution_count": 4,
   "id": "e861a4c5-fa78-49fc-8176-626eef3e76db",
   "metadata": {},
   "outputs": [
    {
     "data": {
      "text/html": [
       "<div>\n",
       "<style scoped>\n",
       "    .dataframe tbody tr th:only-of-type {\n",
       "        vertical-align: middle;\n",
       "    }\n",
       "\n",
       "    .dataframe tbody tr th {\n",
       "        vertical-align: top;\n",
       "    }\n",
       "\n",
       "    .dataframe thead th {\n",
       "        text-align: right;\n",
       "    }\n",
       "</style>\n",
       "<table border=\"1\" class=\"dataframe\">\n",
       "  <thead>\n",
       "    <tr style=\"text-align: right;\">\n",
       "      <th></th>\n",
       "      <th>InvoiceNo</th>\n",
       "      <th>StockCode</th>\n",
       "      <th>Description</th>\n",
       "      <th>Quantity</th>\n",
       "      <th>InvoiceDate</th>\n",
       "      <th>UnitPrice</th>\n",
       "      <th>CustomerID</th>\n",
       "      <th>Country</th>\n",
       "    </tr>\n",
       "  </thead>\n",
       "  <tbody>\n",
       "    <tr>\n",
       "      <th>0</th>\n",
       "      <td>536365</td>\n",
       "      <td>85123A</td>\n",
       "      <td>WHITE HANGING HEART T-LIGHT HOLDER</td>\n",
       "      <td>6</td>\n",
       "      <td>2010-12-01 08:26:00</td>\n",
       "      <td>2.55</td>\n",
       "      <td>17850.0</td>\n",
       "      <td>United Kingdom</td>\n",
       "    </tr>\n",
       "    <tr>\n",
       "      <th>1</th>\n",
       "      <td>536365</td>\n",
       "      <td>71053</td>\n",
       "      <td>WHITE METAL LANTERN</td>\n",
       "      <td>6</td>\n",
       "      <td>2010-12-01 08:26:00</td>\n",
       "      <td>3.39</td>\n",
       "      <td>17850.0</td>\n",
       "      <td>United Kingdom</td>\n",
       "    </tr>\n",
       "    <tr>\n",
       "      <th>2</th>\n",
       "      <td>536365</td>\n",
       "      <td>84406B</td>\n",
       "      <td>CREAM CUPID HEARTS COAT HANGER</td>\n",
       "      <td>8</td>\n",
       "      <td>2010-12-01 08:26:00</td>\n",
       "      <td>2.75</td>\n",
       "      <td>17850.0</td>\n",
       "      <td>United Kingdom</td>\n",
       "    </tr>\n",
       "    <tr>\n",
       "      <th>3</th>\n",
       "      <td>536365</td>\n",
       "      <td>84029G</td>\n",
       "      <td>KNITTED UNION FLAG HOT WATER BOTTLE</td>\n",
       "      <td>6</td>\n",
       "      <td>2010-12-01 08:26:00</td>\n",
       "      <td>3.39</td>\n",
       "      <td>17850.0</td>\n",
       "      <td>United Kingdom</td>\n",
       "    </tr>\n",
       "    <tr>\n",
       "      <th>4</th>\n",
       "      <td>536365</td>\n",
       "      <td>84029E</td>\n",
       "      <td>RED WOOLLY HOTTIE WHITE HEART.</td>\n",
       "      <td>6</td>\n",
       "      <td>2010-12-01 08:26:00</td>\n",
       "      <td>3.39</td>\n",
       "      <td>17850.0</td>\n",
       "      <td>United Kingdom</td>\n",
       "    </tr>\n",
       "  </tbody>\n",
       "</table>\n",
       "</div>"
      ],
      "text/plain": [
       "  InvoiceNo StockCode                          Description  Quantity  \\\n",
       "0    536365    85123A   WHITE HANGING HEART T-LIGHT HOLDER         6   \n",
       "1    536365     71053                  WHITE METAL LANTERN         6   \n",
       "2    536365    84406B       CREAM CUPID HEARTS COAT HANGER         8   \n",
       "3    536365    84029G  KNITTED UNION FLAG HOT WATER BOTTLE         6   \n",
       "4    536365    84029E       RED WOOLLY HOTTIE WHITE HEART.         6   \n",
       "\n",
       "          InvoiceDate  UnitPrice  CustomerID         Country  \n",
       "0 2010-12-01 08:26:00       2.55     17850.0  United Kingdom  \n",
       "1 2010-12-01 08:26:00       3.39     17850.0  United Kingdom  \n",
       "2 2010-12-01 08:26:00       2.75     17850.0  United Kingdom  \n",
       "3 2010-12-01 08:26:00       3.39     17850.0  United Kingdom  \n",
       "4 2010-12-01 08:26:00       3.39     17850.0  United Kingdom  "
      ]
     },
     "execution_count": 4,
     "metadata": {},
     "output_type": "execute_result"
    }
   ],
   "source": [
    "# Importing and reading the dataset\n",
    "data = pd.read_excel(\"Online Retail.xlsx/Online Retail.xlsx\")\n",
    "data.head()"
   ]
  },
  {
   "cell_type": "code",
   "execution_count": 5,
   "id": "3d2be433-6ddf-4173-bb86-23fd57aecdc6",
   "metadata": {
    "id": "8O3L-i-euYUF"
   },
   "outputs": [],
   "source": [
    "# Only taking non-negative product quantities. \n",
    "data= data[data['Quantity'] >= 0]"
   ]
  },
  {
   "cell_type": "code",
   "execution_count": 6,
   "id": "ffaa3608-e630-43e1-861d-7f0a569392fd",
   "metadata": {
    "colab": {
     "base_uri": "https://localhost:8080/"
    },
    "id": "X6q9HXy-uicx",
    "outputId": "09f7e5a8-e1d2-4d44-cdcc-617a5eededc6"
   },
   "outputs": [
    {
     "name": "stdout",
     "output_type": "stream",
     "text": [
      "Empty DataFrame\n",
      "Columns: [InvoiceNo, StockCode, Description, Quantity, InvoiceDate, UnitPrice, CustomerID, Country]\n",
      "Index: []\n"
     ]
    }
   ],
   "source": [
    "# Varifying if all negative values are removed.\n",
    "print(data[data['Quantity'] < 0])"
   ]
  },
  {
   "cell_type": "code",
   "execution_count": 7,
   "id": "0cb5eb6d-f766-4cc8-9905-f763d097f7d3",
   "metadata": {
    "id": "h-OSVDI7Rg3e"
   },
   "outputs": [],
   "source": [
    "# Creating a new column for total cart value.\n",
    "data['TotalPrice'] = data['UnitPrice']* data['Quantity']"
   ]
  },
  {
   "cell_type": "code",
   "execution_count": 8,
   "id": "1e38977c-4b25-4f9a-85c3-79b3fd828718",
   "metadata": {
    "id": "6ed2pO6ocOt9"
   },
   "outputs": [],
   "source": [
    "# Removing the stockcode column \n",
    "data.drop(['StockCode'], axis=1, inplace= True)"
   ]
  },
  {
   "cell_type": "code",
   "execution_count": 9,
   "id": "6eb19fb2-417d-4294-bba5-64c1b6640a81",
   "metadata": {},
   "outputs": [
    {
     "data": {
      "text/html": [
       "<div>\n",
       "<style scoped>\n",
       "    .dataframe tbody tr th:only-of-type {\n",
       "        vertical-align: middle;\n",
       "    }\n",
       "\n",
       "    .dataframe tbody tr th {\n",
       "        vertical-align: top;\n",
       "    }\n",
       "\n",
       "    .dataframe thead th {\n",
       "        text-align: right;\n",
       "    }\n",
       "</style>\n",
       "<table border=\"1\" class=\"dataframe\">\n",
       "  <thead>\n",
       "    <tr style=\"text-align: right;\">\n",
       "      <th></th>\n",
       "      <th>InvoiceNo</th>\n",
       "      <th>Description</th>\n",
       "      <th>Quantity</th>\n",
       "      <th>InvoiceDate</th>\n",
       "      <th>UnitPrice</th>\n",
       "      <th>CustomerID</th>\n",
       "      <th>Country</th>\n",
       "      <th>TotalPrice</th>\n",
       "    </tr>\n",
       "  </thead>\n",
       "  <tbody>\n",
       "    <tr>\n",
       "      <th>0</th>\n",
       "      <td>536365</td>\n",
       "      <td>WHITE HANGING HEART T-LIGHT HOLDER</td>\n",
       "      <td>6</td>\n",
       "      <td>2010-12-01 08:26:00</td>\n",
       "      <td>2.55</td>\n",
       "      <td>17850.0</td>\n",
       "      <td>United Kingdom</td>\n",
       "      <td>15.30</td>\n",
       "    </tr>\n",
       "    <tr>\n",
       "      <th>1</th>\n",
       "      <td>536365</td>\n",
       "      <td>WHITE METAL LANTERN</td>\n",
       "      <td>6</td>\n",
       "      <td>2010-12-01 08:26:00</td>\n",
       "      <td>3.39</td>\n",
       "      <td>17850.0</td>\n",
       "      <td>United Kingdom</td>\n",
       "      <td>20.34</td>\n",
       "    </tr>\n",
       "    <tr>\n",
       "      <th>2</th>\n",
       "      <td>536365</td>\n",
       "      <td>CREAM CUPID HEARTS COAT HANGER</td>\n",
       "      <td>8</td>\n",
       "      <td>2010-12-01 08:26:00</td>\n",
       "      <td>2.75</td>\n",
       "      <td>17850.0</td>\n",
       "      <td>United Kingdom</td>\n",
       "      <td>22.00</td>\n",
       "    </tr>\n",
       "    <tr>\n",
       "      <th>3</th>\n",
       "      <td>536365</td>\n",
       "      <td>KNITTED UNION FLAG HOT WATER BOTTLE</td>\n",
       "      <td>6</td>\n",
       "      <td>2010-12-01 08:26:00</td>\n",
       "      <td>3.39</td>\n",
       "      <td>17850.0</td>\n",
       "      <td>United Kingdom</td>\n",
       "      <td>20.34</td>\n",
       "    </tr>\n",
       "    <tr>\n",
       "      <th>4</th>\n",
       "      <td>536365</td>\n",
       "      <td>RED WOOLLY HOTTIE WHITE HEART.</td>\n",
       "      <td>6</td>\n",
       "      <td>2010-12-01 08:26:00</td>\n",
       "      <td>3.39</td>\n",
       "      <td>17850.0</td>\n",
       "      <td>United Kingdom</td>\n",
       "      <td>20.34</td>\n",
       "    </tr>\n",
       "  </tbody>\n",
       "</table>\n",
       "</div>"
      ],
      "text/plain": [
       "  InvoiceNo                          Description  Quantity  \\\n",
       "0    536365   WHITE HANGING HEART T-LIGHT HOLDER         6   \n",
       "1    536365                  WHITE METAL LANTERN         6   \n",
       "2    536365       CREAM CUPID HEARTS COAT HANGER         8   \n",
       "3    536365  KNITTED UNION FLAG HOT WATER BOTTLE         6   \n",
       "4    536365       RED WOOLLY HOTTIE WHITE HEART.         6   \n",
       "\n",
       "          InvoiceDate  UnitPrice  CustomerID         Country  TotalPrice  \n",
       "0 2010-12-01 08:26:00       2.55     17850.0  United Kingdom       15.30  \n",
       "1 2010-12-01 08:26:00       3.39     17850.0  United Kingdom       20.34  \n",
       "2 2010-12-01 08:26:00       2.75     17850.0  United Kingdom       22.00  \n",
       "3 2010-12-01 08:26:00       3.39     17850.0  United Kingdom       20.34  \n",
       "4 2010-12-01 08:26:00       3.39     17850.0  United Kingdom       20.34  "
      ]
     },
     "execution_count": 9,
     "metadata": {},
     "output_type": "execute_result"
    }
   ],
   "source": [
    "data.head()"
   ]
  },
  {
   "cell_type": "code",
   "execution_count": 10,
   "id": "4e055563-ee51-4653-92b6-debe56d5a59d",
   "metadata": {
    "id": "E84TkjWRchJC"
   },
   "outputs": [],
   "source": [
    "# We can use these columns to further analyze the data we will remove them for now.\n",
    "data.drop(['InvoiceDate','Description'], axis=1, inplace=True)"
   ]
  },
  {
   "cell_type": "code",
   "execution_count": 11,
   "id": "e0168903-81e4-40fa-b6f4-5d00eb449d37",
   "metadata": {
    "colab": {
     "base_uri": "https://localhost:8080/",
     "height": 423
    },
    "id": "zpcwxfHmlWIJ",
    "outputId": "a9145b0a-a2dd-455d-bd67-e57cd7290911"
   },
   "outputs": [
    {
     "data": {
      "text/html": [
       "<div>\n",
       "<style scoped>\n",
       "    .dataframe tbody tr th:only-of-type {\n",
       "        vertical-align: middle;\n",
       "    }\n",
       "\n",
       "    .dataframe tbody tr th {\n",
       "        vertical-align: top;\n",
       "    }\n",
       "\n",
       "    .dataframe thead th {\n",
       "        text-align: right;\n",
       "    }\n",
       "</style>\n",
       "<table border=\"1\" class=\"dataframe\">\n",
       "  <thead>\n",
       "    <tr style=\"text-align: right;\">\n",
       "      <th></th>\n",
       "      <th>InvoiceNo</th>\n",
       "      <th>Quantity</th>\n",
       "      <th>UnitPrice</th>\n",
       "      <th>Country</th>\n",
       "      <th>TotalPrice</th>\n",
       "    </tr>\n",
       "  </thead>\n",
       "  <tbody>\n",
       "    <tr>\n",
       "      <th>0</th>\n",
       "      <td>536365</td>\n",
       "      <td>6</td>\n",
       "      <td>2.55</td>\n",
       "      <td>United Kingdom</td>\n",
       "      <td>15.30</td>\n",
       "    </tr>\n",
       "    <tr>\n",
       "      <th>1</th>\n",
       "      <td>536365</td>\n",
       "      <td>6</td>\n",
       "      <td>3.39</td>\n",
       "      <td>United Kingdom</td>\n",
       "      <td>20.34</td>\n",
       "    </tr>\n",
       "    <tr>\n",
       "      <th>2</th>\n",
       "      <td>536365</td>\n",
       "      <td>8</td>\n",
       "      <td>2.75</td>\n",
       "      <td>United Kingdom</td>\n",
       "      <td>22.00</td>\n",
       "    </tr>\n",
       "    <tr>\n",
       "      <th>3</th>\n",
       "      <td>536365</td>\n",
       "      <td>6</td>\n",
       "      <td>3.39</td>\n",
       "      <td>United Kingdom</td>\n",
       "      <td>20.34</td>\n",
       "    </tr>\n",
       "    <tr>\n",
       "      <th>4</th>\n",
       "      <td>536365</td>\n",
       "      <td>6</td>\n",
       "      <td>3.39</td>\n",
       "      <td>United Kingdom</td>\n",
       "      <td>20.34</td>\n",
       "    </tr>\n",
       "    <tr>\n",
       "      <th>...</th>\n",
       "      <td>...</td>\n",
       "      <td>...</td>\n",
       "      <td>...</td>\n",
       "      <td>...</td>\n",
       "      <td>...</td>\n",
       "    </tr>\n",
       "    <tr>\n",
       "      <th>541904</th>\n",
       "      <td>581587</td>\n",
       "      <td>12</td>\n",
       "      <td>0.85</td>\n",
       "      <td>France</td>\n",
       "      <td>10.20</td>\n",
       "    </tr>\n",
       "    <tr>\n",
       "      <th>541905</th>\n",
       "      <td>581587</td>\n",
       "      <td>6</td>\n",
       "      <td>2.10</td>\n",
       "      <td>France</td>\n",
       "      <td>12.60</td>\n",
       "    </tr>\n",
       "    <tr>\n",
       "      <th>541906</th>\n",
       "      <td>581587</td>\n",
       "      <td>4</td>\n",
       "      <td>4.15</td>\n",
       "      <td>France</td>\n",
       "      <td>16.60</td>\n",
       "    </tr>\n",
       "    <tr>\n",
       "      <th>541907</th>\n",
       "      <td>581587</td>\n",
       "      <td>4</td>\n",
       "      <td>4.15</td>\n",
       "      <td>France</td>\n",
       "      <td>16.60</td>\n",
       "    </tr>\n",
       "    <tr>\n",
       "      <th>541908</th>\n",
       "      <td>581587</td>\n",
       "      <td>3</td>\n",
       "      <td>4.95</td>\n",
       "      <td>France</td>\n",
       "      <td>14.85</td>\n",
       "    </tr>\n",
       "  </tbody>\n",
       "</table>\n",
       "<p>531285 rows × 5 columns</p>\n",
       "</div>"
      ],
      "text/plain": [
       "       InvoiceNo  Quantity  UnitPrice         Country  TotalPrice\n",
       "0         536365         6       2.55  United Kingdom       15.30\n",
       "1         536365         6       3.39  United Kingdom       20.34\n",
       "2         536365         8       2.75  United Kingdom       22.00\n",
       "3         536365         6       3.39  United Kingdom       20.34\n",
       "4         536365         6       3.39  United Kingdom       20.34\n",
       "...          ...       ...        ...             ...         ...\n",
       "541904    581587        12       0.85          France       10.20\n",
       "541905    581587         6       2.10          France       12.60\n",
       "541906    581587         4       4.15          France       16.60\n",
       "541907    581587         4       4.15          France       16.60\n",
       "541908    581587         3       4.95          France       14.85\n",
       "\n",
       "[531285 rows x 5 columns]"
      ]
     },
     "execution_count": 11,
     "metadata": {},
     "output_type": "execute_result"
    }
   ],
   "source": [
    "# Removing customer id column\n",
    "data.drop(['CustomerID'], axis=1)"
   ]
  },
  {
   "cell_type": "code",
   "execution_count": 12,
   "id": "e30991ff-eeba-45e5-b8a5-4630b03a517b",
   "metadata": {
    "colab": {
     "base_uri": "https://localhost:8080/",
     "height": 423
    },
    "id": "-IfwRkpQctnk",
    "outputId": "57102561-9697-4f10-f86a-748c74d3f390"
   },
   "outputs": [
    {
     "data": {
      "text/html": [
       "<div>\n",
       "<style scoped>\n",
       "    .dataframe tbody tr th:only-of-type {\n",
       "        vertical-align: middle;\n",
       "    }\n",
       "\n",
       "    .dataframe tbody tr th {\n",
       "        vertical-align: top;\n",
       "    }\n",
       "\n",
       "    .dataframe thead tr th {\n",
       "        text-align: left;\n",
       "    }\n",
       "</style>\n",
       "<table border=\"1\" class=\"dataframe\">\n",
       "  <thead>\n",
       "    <tr>\n",
       "      <th></th>\n",
       "      <th>InvoiceNo</th>\n",
       "      <th>Country</th>\n",
       "      <th colspan=\"4\" halign=\"left\">Quantity</th>\n",
       "      <th colspan=\"2\" halign=\"left\">TotalPrice</th>\n",
       "      <th colspan=\"4\" halign=\"left\">UnitPrice</th>\n",
       "    </tr>\n",
       "    <tr>\n",
       "      <th></th>\n",
       "      <th></th>\n",
       "      <th></th>\n",
       "      <th>sum</th>\n",
       "      <th>min</th>\n",
       "      <th>max</th>\n",
       "      <th>mean</th>\n",
       "      <th>mean</th>\n",
       "      <th>sum</th>\n",
       "      <th>sum</th>\n",
       "      <th>min</th>\n",
       "      <th>max</th>\n",
       "      <th>mean</th>\n",
       "    </tr>\n",
       "  </thead>\n",
       "  <tbody>\n",
       "    <tr>\n",
       "      <th>0</th>\n",
       "      <td>536365</td>\n",
       "      <td>United Kingdom</td>\n",
       "      <td>40</td>\n",
       "      <td>2</td>\n",
       "      <td>8</td>\n",
       "      <td>5.714286</td>\n",
       "      <td>19.874286</td>\n",
       "      <td>139.12</td>\n",
       "      <td>27.37</td>\n",
       "      <td>2.55</td>\n",
       "      <td>7.65</td>\n",
       "      <td>3.910000</td>\n",
       "    </tr>\n",
       "    <tr>\n",
       "      <th>1</th>\n",
       "      <td>536366</td>\n",
       "      <td>United Kingdom</td>\n",
       "      <td>12</td>\n",
       "      <td>6</td>\n",
       "      <td>6</td>\n",
       "      <td>6.000000</td>\n",
       "      <td>11.100000</td>\n",
       "      <td>22.20</td>\n",
       "      <td>3.70</td>\n",
       "      <td>1.85</td>\n",
       "      <td>1.85</td>\n",
       "      <td>1.850000</td>\n",
       "    </tr>\n",
       "    <tr>\n",
       "      <th>2</th>\n",
       "      <td>536367</td>\n",
       "      <td>United Kingdom</td>\n",
       "      <td>83</td>\n",
       "      <td>2</td>\n",
       "      <td>32</td>\n",
       "      <td>6.916667</td>\n",
       "      <td>23.227500</td>\n",
       "      <td>278.73</td>\n",
       "      <td>58.24</td>\n",
       "      <td>1.65</td>\n",
       "      <td>9.95</td>\n",
       "      <td>4.853333</td>\n",
       "    </tr>\n",
       "    <tr>\n",
       "      <th>3</th>\n",
       "      <td>536368</td>\n",
       "      <td>United Kingdom</td>\n",
       "      <td>15</td>\n",
       "      <td>3</td>\n",
       "      <td>6</td>\n",
       "      <td>3.750000</td>\n",
       "      <td>17.512500</td>\n",
       "      <td>70.05</td>\n",
       "      <td>19.10</td>\n",
       "      <td>4.25</td>\n",
       "      <td>4.95</td>\n",
       "      <td>4.775000</td>\n",
       "    </tr>\n",
       "    <tr>\n",
       "      <th>4</th>\n",
       "      <td>536369</td>\n",
       "      <td>United Kingdom</td>\n",
       "      <td>3</td>\n",
       "      <td>3</td>\n",
       "      <td>3</td>\n",
       "      <td>3.000000</td>\n",
       "      <td>17.850000</td>\n",
       "      <td>17.85</td>\n",
       "      <td>5.95</td>\n",
       "      <td>5.95</td>\n",
       "      <td>5.95</td>\n",
       "      <td>5.950000</td>\n",
       "    </tr>\n",
       "    <tr>\n",
       "      <th>...</th>\n",
       "      <td>...</td>\n",
       "      <td>...</td>\n",
       "      <td>...</td>\n",
       "      <td>...</td>\n",
       "      <td>...</td>\n",
       "      <td>...</td>\n",
       "      <td>...</td>\n",
       "      <td>...</td>\n",
       "      <td>...</td>\n",
       "      <td>...</td>\n",
       "      <td>...</td>\n",
       "      <td>...</td>\n",
       "    </tr>\n",
       "    <tr>\n",
       "      <th>20723</th>\n",
       "      <td>581586</td>\n",
       "      <td>United Kingdom</td>\n",
       "      <td>66</td>\n",
       "      <td>8</td>\n",
       "      <td>24</td>\n",
       "      <td>16.500000</td>\n",
       "      <td>84.800000</td>\n",
       "      <td>339.20</td>\n",
       "      <td>20.23</td>\n",
       "      <td>1.25</td>\n",
       "      <td>8.95</td>\n",
       "      <td>5.057500</td>\n",
       "    </tr>\n",
       "    <tr>\n",
       "      <th>20724</th>\n",
       "      <td>581587</td>\n",
       "      <td>France</td>\n",
       "      <td>105</td>\n",
       "      <td>3</td>\n",
       "      <td>12</td>\n",
       "      <td>7.000000</td>\n",
       "      <td>16.630000</td>\n",
       "      <td>249.45</td>\n",
       "      <td>44.50</td>\n",
       "      <td>0.85</td>\n",
       "      <td>4.95</td>\n",
       "      <td>2.966667</td>\n",
       "    </tr>\n",
       "    <tr>\n",
       "      <th>20725</th>\n",
       "      <td>A563185</td>\n",
       "      <td>United Kingdom</td>\n",
       "      <td>1</td>\n",
       "      <td>1</td>\n",
       "      <td>1</td>\n",
       "      <td>1.000000</td>\n",
       "      <td>11062.060000</td>\n",
       "      <td>11062.06</td>\n",
       "      <td>11062.06</td>\n",
       "      <td>11062.06</td>\n",
       "      <td>11062.06</td>\n",
       "      <td>11062.060000</td>\n",
       "    </tr>\n",
       "    <tr>\n",
       "      <th>20726</th>\n",
       "      <td>A563186</td>\n",
       "      <td>United Kingdom</td>\n",
       "      <td>1</td>\n",
       "      <td>1</td>\n",
       "      <td>1</td>\n",
       "      <td>1.000000</td>\n",
       "      <td>-11062.060000</td>\n",
       "      <td>-11062.06</td>\n",
       "      <td>-11062.06</td>\n",
       "      <td>-11062.06</td>\n",
       "      <td>-11062.06</td>\n",
       "      <td>-11062.060000</td>\n",
       "    </tr>\n",
       "    <tr>\n",
       "      <th>20727</th>\n",
       "      <td>A563187</td>\n",
       "      <td>United Kingdom</td>\n",
       "      <td>1</td>\n",
       "      <td>1</td>\n",
       "      <td>1</td>\n",
       "      <td>1.000000</td>\n",
       "      <td>-11062.060000</td>\n",
       "      <td>-11062.06</td>\n",
       "      <td>-11062.06</td>\n",
       "      <td>-11062.06</td>\n",
       "      <td>-11062.06</td>\n",
       "      <td>-11062.060000</td>\n",
       "    </tr>\n",
       "  </tbody>\n",
       "</table>\n",
       "<p>20728 rows × 12 columns</p>\n",
       "</div>"
      ],
      "text/plain": [
       "      InvoiceNo         Country Quantity                       TotalPrice  \\\n",
       "                                     sum min max       mean          mean   \n",
       "0        536365  United Kingdom       40   2   8   5.714286     19.874286   \n",
       "1        536366  United Kingdom       12   6   6   6.000000     11.100000   \n",
       "2        536367  United Kingdom       83   2  32   6.916667     23.227500   \n",
       "3        536368  United Kingdom       15   3   6   3.750000     17.512500   \n",
       "4        536369  United Kingdom        3   3   3   3.000000     17.850000   \n",
       "...         ...             ...      ...  ..  ..        ...           ...   \n",
       "20723    581586  United Kingdom       66   8  24  16.500000     84.800000   \n",
       "20724    581587          France      105   3  12   7.000000     16.630000   \n",
       "20725   A563185  United Kingdom        1   1   1   1.000000  11062.060000   \n",
       "20726   A563186  United Kingdom        1   1   1   1.000000 -11062.060000   \n",
       "20727   A563187  United Kingdom        1   1   1   1.000000 -11062.060000   \n",
       "\n",
       "                UnitPrice                                    \n",
       "            sum       sum       min       max          mean  \n",
       "0        139.12     27.37      2.55      7.65      3.910000  \n",
       "1         22.20      3.70      1.85      1.85      1.850000  \n",
       "2        278.73     58.24      1.65      9.95      4.853333  \n",
       "3         70.05     19.10      4.25      4.95      4.775000  \n",
       "4         17.85      5.95      5.95      5.95      5.950000  \n",
       "...         ...       ...       ...       ...           ...  \n",
       "20723    339.20     20.23      1.25      8.95      5.057500  \n",
       "20724    249.45     44.50      0.85      4.95      2.966667  \n",
       "20725  11062.06  11062.06  11062.06  11062.06  11062.060000  \n",
       "20726 -11062.06 -11062.06 -11062.06 -11062.06 -11062.060000  \n",
       "20727 -11062.06 -11062.06 -11062.06 -11062.06 -11062.060000  \n",
       "\n",
       "[20728 rows x 12 columns]"
      ]
     },
     "execution_count": 12,
     "metadata": {},
     "output_type": "execute_result"
    }
   ],
   "source": [
    "# Creating a new dataframe for analyzing the dataframe\n",
    "grouped_data = data.groupby(['InvoiceNo','Country']).agg({\n",
    "    'Quantity': ['sum', 'min', 'max','mean'],\n",
    "    'TotalPrice': ['mean','sum'],\n",
    "    'UnitPrice': ['sum','min', 'max','mean']\n",
    "}).reset_index()\n",
    "\n",
    "grouped_data"
   ]
  },
  {
   "cell_type": "code",
   "execution_count": 13,
   "id": "c9909072-1da1-452e-bafd-16d562fbe828",
   "metadata": {},
   "outputs": [],
   "source": [
    "grouped_data.columns = grouped_data.columns.map('_'.join)"
   ]
  },
  {
   "cell_type": "code",
   "execution_count": 14,
   "id": "05ffb864-ddae-4b2a-835b-7973d3b7fac6",
   "metadata": {},
   "outputs": [],
   "source": [
    "grouped_data = grouped_data.rename(columns={\n",
    "    'InvoiceNo_': 'InvoiceNo',\n",
    "    'Country_': 'Country',\n",
    "    'quantity_sum': 'total quantity',\n",
    "    'quantity_min': 'minimum quantity bought',\n",
    "    'quantity_max': 'maximum quantity bought',\n",
    "    'quantity_avg': 'average quantity bought',\n",
    "    'TotalPrice_sum': 'TotalPrice',\n",
    "    'TotalPrice_mean': 'Avg Cart Price',\n",
    "    'unit price': 'cheapest product price',\n",
    "    'unit price_min': 'cheapest product price',\n",
    "    'unit price_max': 'costliest product price',\n",
    "    'unit price_avg': 'average product price',\n",
    "})"
   ]
  },
  {
   "cell_type": "code",
   "execution_count": 15,
   "id": "d1d0347c-6946-4b1a-aaf6-4b64e890bf40",
   "metadata": {
    "id": "aC5TEe_In3gh"
   },
   "outputs": [],
   "source": [
    "# Only taking non-negative cart values. \n",
    "grouped_data= grouped_data[grouped_data['TotalPrice'] >= 0]"
   ]
  },
  {
   "cell_type": "code",
   "execution_count": 16,
   "id": "77ab6e65-abcf-42a9-8a51-f5c8b1ac0c7c",
   "metadata": {},
   "outputs": [
    {
     "data": {
      "text/plain": [
       "<AxesSubplot:xlabel='Count', ylabel='Country'>"
      ]
     },
     "execution_count": 16,
     "metadata": {},
     "output_type": "execute_result"
    },
    {
     "data": {
      "image/png": "[encoded data removed]",
      "text/plain": [
       "<Figure size 576x720 with 1 Axes>"
      ]
     },
     "metadata": {
      "needs_background": "light"
     },
     "output_type": "display_data"
    }
   ],
   "source": [
    "# Analyzing the country column.\n",
    "fig, ax = plt.subplots(figsize=(8, 10))\n",
    "sns.histplot(y= grouped_data['Country'], ax=ax, palette= 'bright')"
   ]
  },
  {
   "cell_type": "markdown",
   "id": "b7bda164-5806-4691-9302-0803fb2766ba",
   "metadata": {},
   "source": [
    "##### As most of the bills are from United Kingdom and no further location is given so we will remove this column."
   ]
  },
  {
   "cell_type": "code",
   "execution_count": 17,
   "id": "29fc8bf9-7a7b-442b-bd80-2acdffd47527",
   "metadata": {
    "colab": {
     "base_uri": "https://localhost:8080/",
     "height": 423
    },
    "id": "5nCkKmlkk0lM",
    "outputId": "ab70deb8-9b8b-4d14-8c73-0fe1ee3ecdd9"
   },
   "outputs": [
    {
     "data": {
      "text/html": [
       "<div>\n",
       "<style scoped>\n",
       "    .dataframe tbody tr th:only-of-type {\n",
       "        vertical-align: middle;\n",
       "    }\n",
       "\n",
       "    .dataframe tbody tr th {\n",
       "        vertical-align: top;\n",
       "    }\n",
       "\n",
       "    .dataframe thead th {\n",
       "        text-align: right;\n",
       "    }\n",
       "</style>\n",
       "<table border=\"1\" class=\"dataframe\">\n",
       "  <thead>\n",
       "    <tr style=\"text-align: right;\">\n",
       "      <th></th>\n",
       "      <th>InvoiceNo</th>\n",
       "      <th>Quantity_sum</th>\n",
       "      <th>Quantity_min</th>\n",
       "      <th>Quantity_max</th>\n",
       "      <th>Quantity_mean</th>\n",
       "      <th>Avg Cart Price</th>\n",
       "      <th>TotalPrice</th>\n",
       "      <th>UnitPrice_sum</th>\n",
       "      <th>UnitPrice_min</th>\n",
       "      <th>UnitPrice_max</th>\n",
       "      <th>UnitPrice_mean</th>\n",
       "    </tr>\n",
       "  </thead>\n",
       "  <tbody>\n",
       "    <tr>\n",
       "      <th>0</th>\n",
       "      <td>536365</td>\n",
       "      <td>40</td>\n",
       "      <td>2</td>\n",
       "      <td>8</td>\n",
       "      <td>5.714286</td>\n",
       "      <td>19.874286</td>\n",
       "      <td>139.12</td>\n",
       "      <td>27.37</td>\n",
       "      <td>2.55</td>\n",
       "      <td>7.65</td>\n",
       "      <td>3.910000</td>\n",
       "    </tr>\n",
       "    <tr>\n",
       "      <th>1</th>\n",
       "      <td>536366</td>\n",
       "      <td>12</td>\n",
       "      <td>6</td>\n",
       "      <td>6</td>\n",
       "      <td>6.000000</td>\n",
       "      <td>11.100000</td>\n",
       "      <td>22.20</td>\n",
       "      <td>3.70</td>\n",
       "      <td>1.85</td>\n",
       "      <td>1.85</td>\n",
       "      <td>1.850000</td>\n",
       "    </tr>\n",
       "    <tr>\n",
       "      <th>2</th>\n",
       "      <td>536367</td>\n",
       "      <td>83</td>\n",
       "      <td>2</td>\n",
       "      <td>32</td>\n",
       "      <td>6.916667</td>\n",
       "      <td>23.227500</td>\n",
       "      <td>278.73</td>\n",
       "      <td>58.24</td>\n",
       "      <td>1.65</td>\n",
       "      <td>9.95</td>\n",
       "      <td>4.853333</td>\n",
       "    </tr>\n",
       "    <tr>\n",
       "      <th>3</th>\n",
       "      <td>536368</td>\n",
       "      <td>15</td>\n",
       "      <td>3</td>\n",
       "      <td>6</td>\n",
       "      <td>3.750000</td>\n",
       "      <td>17.512500</td>\n",
       "      <td>70.05</td>\n",
       "      <td>19.10</td>\n",
       "      <td>4.25</td>\n",
       "      <td>4.95</td>\n",
       "      <td>4.775000</td>\n",
       "    </tr>\n",
       "    <tr>\n",
       "      <th>4</th>\n",
       "      <td>536369</td>\n",
       "      <td>3</td>\n",
       "      <td>3</td>\n",
       "      <td>3</td>\n",
       "      <td>3.000000</td>\n",
       "      <td>17.850000</td>\n",
       "      <td>17.85</td>\n",
       "      <td>5.95</td>\n",
       "      <td>5.95</td>\n",
       "      <td>5.95</td>\n",
       "      <td>5.950000</td>\n",
       "    </tr>\n",
       "    <tr>\n",
       "      <th>...</th>\n",
       "      <td>...</td>\n",
       "      <td>...</td>\n",
       "      <td>...</td>\n",
       "      <td>...</td>\n",
       "      <td>...</td>\n",
       "      <td>...</td>\n",
       "      <td>...</td>\n",
       "      <td>...</td>\n",
       "      <td>...</td>\n",
       "      <td>...</td>\n",
       "      <td>...</td>\n",
       "    </tr>\n",
       "    <tr>\n",
       "      <th>20721</th>\n",
       "      <td>581584</td>\n",
       "      <td>120</td>\n",
       "      <td>48</td>\n",
       "      <td>72</td>\n",
       "      <td>60.000000</td>\n",
       "      <td>70.320000</td>\n",
       "      <td>140.64</td>\n",
       "      <td>2.57</td>\n",
       "      <td>0.72</td>\n",
       "      <td>1.85</td>\n",
       "      <td>1.285000</td>\n",
       "    </tr>\n",
       "    <tr>\n",
       "      <th>20722</th>\n",
       "      <td>581585</td>\n",
       "      <td>278</td>\n",
       "      <td>3</td>\n",
       "      <td>25</td>\n",
       "      <td>13.238095</td>\n",
       "      <td>15.669048</td>\n",
       "      <td>329.05</td>\n",
       "      <td>37.78</td>\n",
       "      <td>0.19</td>\n",
       "      <td>5.95</td>\n",
       "      <td>1.799048</td>\n",
       "    </tr>\n",
       "    <tr>\n",
       "      <th>20723</th>\n",
       "      <td>581586</td>\n",
       "      <td>66</td>\n",
       "      <td>8</td>\n",
       "      <td>24</td>\n",
       "      <td>16.500000</td>\n",
       "      <td>84.800000</td>\n",
       "      <td>339.20</td>\n",
       "      <td>20.23</td>\n",
       "      <td>1.25</td>\n",
       "      <td>8.95</td>\n",
       "      <td>5.057500</td>\n",
       "    </tr>\n",
       "    <tr>\n",
       "      <th>20724</th>\n",
       "      <td>581587</td>\n",
       "      <td>105</td>\n",
       "      <td>3</td>\n",
       "      <td>12</td>\n",
       "      <td>7.000000</td>\n",
       "      <td>16.630000</td>\n",
       "      <td>249.45</td>\n",
       "      <td>44.50</td>\n",
       "      <td>0.85</td>\n",
       "      <td>4.95</td>\n",
       "      <td>2.966667</td>\n",
       "    </tr>\n",
       "    <tr>\n",
       "      <th>20725</th>\n",
       "      <td>A563185</td>\n",
       "      <td>1</td>\n",
       "      <td>1</td>\n",
       "      <td>1</td>\n",
       "      <td>1.000000</td>\n",
       "      <td>11062.060000</td>\n",
       "      <td>11062.06</td>\n",
       "      <td>11062.06</td>\n",
       "      <td>11062.06</td>\n",
       "      <td>11062.06</td>\n",
       "      <td>11062.060000</td>\n",
       "    </tr>\n",
       "  </tbody>\n",
       "</table>\n",
       "<p>20726 rows × 11 columns</p>\n",
       "</div>"
      ],
      "text/plain": [
       "      InvoiceNo  Quantity_sum  Quantity_min  Quantity_max  Quantity_mean  \\\n",
       "0        536365            40             2             8       5.714286   \n",
       "1        536366            12             6             6       6.000000   \n",
       "2        536367            83             2            32       6.916667   \n",
       "3        536368            15             3             6       3.750000   \n",
       "4        536369             3             3             3       3.000000   \n",
       "...         ...           ...           ...           ...            ...   \n",
       "20721    581584           120            48            72      60.000000   \n",
       "20722    581585           278             3            25      13.238095   \n",
       "20723    581586            66             8            24      16.500000   \n",
       "20724    581587           105             3            12       7.000000   \n",
       "20725   A563185             1             1             1       1.000000   \n",
       "\n",
       "       Avg Cart Price  TotalPrice  UnitPrice_sum  UnitPrice_min  \\\n",
       "0           19.874286      139.12          27.37           2.55   \n",
       "1           11.100000       22.20           3.70           1.85   \n",
       "2           23.227500      278.73          58.24           1.65   \n",
       "3           17.512500       70.05          19.10           4.25   \n",
       "4           17.850000       17.85           5.95           5.95   \n",
       "...               ...         ...            ...            ...   \n",
       "20721       70.320000      140.64           2.57           0.72   \n",
       "20722       15.669048      329.05          37.78           0.19   \n",
       "20723       84.800000      339.20          20.23           1.25   \n",
       "20724       16.630000      249.45          44.50           0.85   \n",
       "20725    11062.060000    11062.06       11062.06       11062.06   \n",
       "\n",
       "       UnitPrice_max  UnitPrice_mean  \n",
       "0               7.65        3.910000  \n",
       "1               1.85        1.850000  \n",
       "2               9.95        4.853333  \n",
       "3               4.95        4.775000  \n",
       "4               5.95        5.950000  \n",
       "...              ...             ...  \n",
       "20721           1.85        1.285000  \n",
       "20722           5.95        1.799048  \n",
       "20723           8.95        5.057500  \n",
       "20724           4.95        2.966667  \n",
       "20725       11062.06    11062.060000  \n",
       "\n",
       "[20726 rows x 11 columns]"
      ]
     },
     "execution_count": 17,
     "metadata": {},
     "output_type": "execute_result"
    }
   ],
   "source": [
    "grouped_data.drop(['Country'],axis= 1)"
   ]
  },
  {
   "cell_type": "code",
   "execution_count": 18,
   "id": "ed48d7f2-e93b-4de9-a51f-c595c3ba8ae1",
   "metadata": {},
   "outputs": [
    {
     "data": {
      "text/plain": [
       "Index(['InvoiceNo', 'Country', 'Quantity_sum', 'Quantity_min', 'Quantity_max',\n",
       "       'Quantity_mean', 'Avg Cart Price', 'TotalPrice', 'UnitPrice_sum',\n",
       "       'UnitPrice_min', 'UnitPrice_max', 'UnitPrice_mean'],\n",
       "      dtype='object')"
      ]
     },
     "execution_count": 18,
     "metadata": {},
     "output_type": "execute_result"
    }
   ],
   "source": [
    "grouped_data.columns"
   ]
  },
  {
   "cell_type": "code",
   "execution_count": 144,
   "id": "1134eca3-ab83-4c9a-a29b-ff1b6217e94d",
   "metadata": {},
   "outputs": [
    {
     "data": {
      "text/plain": [
       "<AxesSubplot:xlabel='TotalPrice'>"
      ]
     },
     "execution_count": 144,
     "metadata": {},
     "output_type": "execute_result"
    },
    {
     "data": {
      "image/png": "[encoded data removed]",
      "text/plain": [
       "<Figure size 2160x360 with 1 Axes>"
      ]
     },
     "metadata": {
      "needs_background": "light"
     },
     "output_type": "display_data"
    }
   ],
   "source": [
    "plt.figure(figsize=(30,5))\n",
    "sns.boxplot(x= grouped_data['TotalPrice'], palette= 'bright')"
   ]
  },
  {
   "cell_type": "code",
   "execution_count": 149,
   "id": "4a12f75d-edd3-4f96-96d3-7fa0c2523b3d",
   "metadata": {},
   "outputs": [
    {
     "data": {
      "text/plain": [
       "<AxesSubplot:xlabel='Quantity_sum'>"
      ]
     },
     "execution_count": 149,
     "metadata": {},
     "output_type": "execute_result"
    },
    {
     "data": {
      "image/png": "[encoded data removed]",
      "text/plain": [
       "<Figure size 2160x360 with 1 Axes>"
      ]
     },
     "metadata": {
      "needs_background": "light"
     },
     "output_type": "display_data"
    }
   ],
   "source": [
    "plt.figure(figsize=(30,5))\n",
    "sns.boxplot(x= grouped_data['Quantity_sum'], palette= 'bright')"
   ]
  },
  {
   "cell_type": "code",
   "execution_count": 150,
   "id": "70743267-63fd-4cd7-9a03-3eba695a440e",
   "metadata": {},
   "outputs": [
    {
     "data": {
      "text/plain": [
       "<AxesSubplot:xlabel='Avg Cart Price'>"
      ]
     },
     "execution_count": 150,
     "metadata": {},
     "output_type": "execute_result"
    },
    {
     "data": {
      "image/png": "[encoded data removed]",
      "text/plain": [
       "<Figure size 2160x360 with 1 Axes>"
      ]
     },
     "metadata": {
      "needs_background": "light"
     },
     "output_type": "display_data"
    }
   ],
   "source": [
    "plt.figure(figsize=(30,5))\n",
    "sns.boxplot(x= grouped_data['Avg Cart Price'], palette= 'bright')"
   ]
  },
  {
   "cell_type": "code",
   "execution_count": 182,
   "id": "4a298767-2aaf-4715-a5e4-b33be2e5c91f",
   "metadata": {},
   "outputs": [
    {
     "data": {
      "text/plain": [
       "<AxesSubplot:xlabel='UnitPrice_mean'>"
      ]
     },
     "execution_count": 182,
     "metadata": {},
     "output_type": "execute_result"
    },
    {
     "data": {
      "image/png": "[encoded data removed]",
      "text/plain": [
       "<Figure size 2160x360 with 1 Axes>"
      ]
     },
     "metadata": {
      "needs_background": "light"
     },
     "output_type": "display_data"
    }
   ],
   "source": [
    "plt.figure(figsize=(30,5))\n",
    "sns.boxplot(x= grouped_data['UnitPrice_mean'], palette= 'bright')"
   ]
  },
  {
   "cell_type": "code",
   "execution_count": 181,
   "id": "ce9120f4-f49b-40f9-8a3e-4cabb8591e41",
   "metadata": {},
   "outputs": [
    {
     "data": {
      "text/plain": [
       "<AxesSubplot:xlabel='Quantity_min'>"
      ]
     },
     "execution_count": 181,
     "metadata": {},
     "output_type": "execute_result"
    },
    {
     "data": {
      "image/png": "[encoded data removed]",
      "text/plain": [
       "<Figure size 2160x360 with 1 Axes>"
      ]
     },
     "metadata": {
      "needs_background": "light"
     },
     "output_type": "display_data"
    }
   ],
   "source": [
    "plt.figure(figsize=(30,5))\n",
    "sns.boxplot(x= grouped_data['Quantity_min'], palette= 'bright')"
   ]
  },
  {
   "cell_type": "code",
   "execution_count": null,
   "id": "0d60ed5c-8a21-496b-a685-d59205363b1b",
   "metadata": {},
   "outputs": [],
   "source": [
    "plt.figure(figsize=(30,5))\n",
    "sns.boxplot(x= grouped_data['TotalPrice'])"
   ]
  },
  {
   "cell_type": "markdown",
   "id": "347d9213-9774-4b2d-818f-b0fa34888fc2",
   "metadata": {},
   "source": [
    "##### Now we will remove the outliers from the following columns using z-score method. We will remove any valuse which is 3 standard deviation away from the mean of the data."
   ]
  },
  {
   "cell_type": "code",
   "execution_count": 145,
   "id": "7c8a65a1-1c14-4dcf-8668-e5e04cc9263d",
   "metadata": {
    "id": "PfaO-LzPW9wp"
   },
   "outputs": [],
   "source": [
    "z_score = np.abs(stats.zscore(grouped_data['TotalPrice']))\n",
    "grouped_data = grouped_data[z_score <= 2]"
   ]
  },
  {
   "cell_type": "code",
   "execution_count": 23,
   "id": "28e8f230-0939-4272-8c8a-52f97f21ff12",
   "metadata": {
    "id": "FMnaxfhKbYs9"
   },
   "outputs": [],
   "source": [
    "z_score1 = np.abs(stats.zscore(grouped_data['Quantity_sum']))\n",
    "grouped_data = grouped_data[z_score1 <= 2]"
   ]
  },
  {
   "cell_type": "code",
   "execution_count": 26,
   "id": "2c0dbb4e-e876-4ca1-92df-fbd4ab72d92e",
   "metadata": {},
   "outputs": [],
   "source": [
    "z_score2 = np.abs(stats.zscore(grouped_data['Avg Cart Price']))\n",
    "grouped_data = grouped_data[z_score2 <= 2]"
   ]
  },
  {
   "cell_type": "code",
   "execution_count": 29,
   "id": "d0a32a0a-509d-46a0-9441-25ef895c3cbe",
   "metadata": {},
   "outputs": [],
   "source": [
    "z_score3 = np.abs(stats.zscore(grouped_data['UnitPrice_mean']))\n",
    "grouped_data = grouped_data[z_score3 <= 2]"
   ]
  },
  {
   "cell_type": "code",
   "execution_count": 32,
   "id": "aebd9fab-5fd1-4cc5-9fbe-76f1de23da9a",
   "metadata": {},
   "outputs": [],
   "source": [
    "z_score4 = np.abs(stats.zscore(grouped_data['Quantity_min']))\n",
    "grouped_data = grouped_data[z_score4 <= 2]"
   ]
  },
  {
   "cell_type": "code",
   "execution_count": 35,
   "id": "51fcf165-d83d-4aa1-a368-de4532875671",
   "metadata": {},
   "outputs": [],
   "source": [
    "z_score5 = np.abs(stats.zscore(grouped_data['UnitPrice_max']))\n",
    "grouped_data = grouped_data[z_score5 <= 2]"
   ]
  },
  {
   "cell_type": "code",
   "execution_count": 36,
   "id": "f32c4f62-c1fc-49a9-aecf-27b400fa597f",
   "metadata": {},
   "outputs": [],
   "source": [
    "z_score6 = np.abs(stats.zscore(grouped_data['UnitPrice_min']))\n",
    "grouped_data = grouped_data[z_score6 <= 2]"
   ]
  },
  {
   "cell_type": "code",
   "execution_count": 37,
   "id": "ee25b269-1cb5-4ca3-bfe7-ddb3e2221b4a",
   "metadata": {},
   "outputs": [],
   "source": [
    "z_score7 = np.abs(stats.zscore(grouped_data['UnitPrice_sum']))\n",
    "grouped_data = grouped_data[z_score6 <= 2]"
   ]
  },
  {
   "cell_type": "code",
   "execution_count": 39,
   "id": "ea28cf4b-c158-42e0-bf28-935089962a39",
   "metadata": {},
   "outputs": [
    {
     "data": {
      "text/plain": [
       "Index(['InvoiceNo', 'Country', 'Quantity_sum', 'Quantity_min', 'Quantity_max',\n",
       "       'Quantity_mean', 'Avg Cart Price', 'TotalPrice', 'UnitPrice_sum',\n",
       "       'UnitPrice_min', 'UnitPrice_max', 'UnitPrice_mean'],\n",
       "      dtype='object')"
      ]
     },
     "execution_count": 39,
     "metadata": {},
     "output_type": "execute_result"
    }
   ],
   "source": [
    "grouped_data.columns"
   ]
  },
  {
   "cell_type": "code",
   "execution_count": 40,
   "id": "d5fd67b3-465a-4e0b-a539-3e039e3c77d0",
   "metadata": {
    "id": "LThngfcuJ3Dh"
   },
   "outputs": [],
   "source": [
    "final_data = grouped_data[['InvoiceNo', 'TotalPrice','Quantity_sum','Quantity_min','Quantity_max','Quantity_mean','Avg Cart Price', 'UnitPrice_min','UnitPrice_max','UnitPrice_mean']]"
   ]
  },
  {
   "cell_type": "code",
   "execution_count": 41,
   "id": "1b5d4727-efd6-4d3f-aa18-e8ff19a7ad48",
   "metadata": {},
   "outputs": [
    {
     "data": {
      "text/html": [
       "<div>\n",
       "<style scoped>\n",
       "    .dataframe tbody tr th:only-of-type {\n",
       "        vertical-align: middle;\n",
       "    }\n",
       "\n",
       "    .dataframe tbody tr th {\n",
       "        vertical-align: top;\n",
       "    }\n",
       "\n",
       "    .dataframe thead th {\n",
       "        text-align: right;\n",
       "    }\n",
       "</style>\n",
       "<table border=\"1\" class=\"dataframe\">\n",
       "  <thead>\n",
       "    <tr style=\"text-align: right;\">\n",
       "      <th></th>\n",
       "      <th>InvoiceNo</th>\n",
       "      <th>TotalPrice</th>\n",
       "      <th>Quantity_sum</th>\n",
       "      <th>Quantity_min</th>\n",
       "      <th>Quantity_max</th>\n",
       "      <th>Quantity_mean</th>\n",
       "      <th>Avg Cart Price</th>\n",
       "      <th>UnitPrice_min</th>\n",
       "      <th>UnitPrice_max</th>\n",
       "      <th>UnitPrice_mean</th>\n",
       "    </tr>\n",
       "  </thead>\n",
       "  <tbody>\n",
       "    <tr>\n",
       "      <th>0</th>\n",
       "      <td>536365</td>\n",
       "      <td>139.12</td>\n",
       "      <td>40</td>\n",
       "      <td>2</td>\n",
       "      <td>8</td>\n",
       "      <td>5.714286</td>\n",
       "      <td>19.874286</td>\n",
       "      <td>2.55</td>\n",
       "      <td>7.65</td>\n",
       "      <td>3.910000</td>\n",
       "    </tr>\n",
       "    <tr>\n",
       "      <th>1</th>\n",
       "      <td>536366</td>\n",
       "      <td>22.20</td>\n",
       "      <td>12</td>\n",
       "      <td>6</td>\n",
       "      <td>6</td>\n",
       "      <td>6.000000</td>\n",
       "      <td>11.100000</td>\n",
       "      <td>1.85</td>\n",
       "      <td>1.85</td>\n",
       "      <td>1.850000</td>\n",
       "    </tr>\n",
       "    <tr>\n",
       "      <th>2</th>\n",
       "      <td>536367</td>\n",
       "      <td>278.73</td>\n",
       "      <td>83</td>\n",
       "      <td>2</td>\n",
       "      <td>32</td>\n",
       "      <td>6.916667</td>\n",
       "      <td>23.227500</td>\n",
       "      <td>1.65</td>\n",
       "      <td>9.95</td>\n",
       "      <td>4.853333</td>\n",
       "    </tr>\n",
       "    <tr>\n",
       "      <th>5</th>\n",
       "      <td>536370</td>\n",
       "      <td>855.86</td>\n",
       "      <td>449</td>\n",
       "      <td>3</td>\n",
       "      <td>48</td>\n",
       "      <td>22.450000</td>\n",
       "      <td>42.793000</td>\n",
       "      <td>0.42</td>\n",
       "      <td>18.00</td>\n",
       "      <td>2.764500</td>\n",
       "    </tr>\n",
       "    <tr>\n",
       "      <th>7</th>\n",
       "      <td>536372</td>\n",
       "      <td>22.20</td>\n",
       "      <td>12</td>\n",
       "      <td>6</td>\n",
       "      <td>6</td>\n",
       "      <td>6.000000</td>\n",
       "      <td>11.100000</td>\n",
       "      <td>1.85</td>\n",
       "      <td>1.85</td>\n",
       "      <td>1.850000</td>\n",
       "    </tr>\n",
       "  </tbody>\n",
       "</table>\n",
       "</div>"
      ],
      "text/plain": [
       "  InvoiceNo  TotalPrice  Quantity_sum  Quantity_min  Quantity_max  \\\n",
       "0    536365      139.12            40             2             8   \n",
       "1    536366       22.20            12             6             6   \n",
       "2    536367      278.73            83             2            32   \n",
       "5    536370      855.86           449             3            48   \n",
       "7    536372       22.20            12             6             6   \n",
       "\n",
       "   Quantity_mean  Avg Cart Price  UnitPrice_min  UnitPrice_max  UnitPrice_mean  \n",
       "0       5.714286       19.874286           2.55           7.65        3.910000  \n",
       "1       6.000000       11.100000           1.85           1.85        1.850000  \n",
       "2       6.916667       23.227500           1.65           9.95        4.853333  \n",
       "5      22.450000       42.793000           0.42          18.00        2.764500  \n",
       "7       6.000000       11.100000           1.85           1.85        1.850000  "
      ]
     },
     "execution_count": 41,
     "metadata": {},
     "output_type": "execute_result"
    }
   ],
   "source": [
    "final_data.head()"
   ]
  },
  {
   "cell_type": "markdown",
   "id": "691de640-917e-448f-90e7-719add490fbd",
   "metadata": {},
   "source": [
    "##### Now we will analyze the final data after preprocessing."
   ]
  },
  {
   "cell_type": "code",
   "execution_count": 42,
   "id": "2549bd55-3c5a-451e-af54-3394d212b08f",
   "metadata": {},
   "outputs": [
    {
     "data": {
      "text/html": [
       "<div>\n",
       "<style scoped>\n",
       "    .dataframe tbody tr th:only-of-type {\n",
       "        vertical-align: middle;\n",
       "    }\n",
       "\n",
       "    .dataframe tbody tr th {\n",
       "        vertical-align: top;\n",
       "    }\n",
       "\n",
       "    .dataframe thead th {\n",
       "        text-align: right;\n",
       "    }\n",
       "</style>\n",
       "<table border=\"1\" class=\"dataframe\">\n",
       "  <thead>\n",
       "    <tr style=\"text-align: right;\">\n",
       "      <th></th>\n",
       "      <th>TotalPrice</th>\n",
       "      <th>Quantity_sum</th>\n",
       "      <th>Quantity_min</th>\n",
       "      <th>Quantity_max</th>\n",
       "      <th>Quantity_mean</th>\n",
       "      <th>Avg Cart Price</th>\n",
       "      <th>UnitPrice_min</th>\n",
       "      <th>UnitPrice_max</th>\n",
       "      <th>UnitPrice_mean</th>\n",
       "    </tr>\n",
       "  </thead>\n",
       "  <tbody>\n",
       "    <tr>\n",
       "      <th>count</th>\n",
       "      <td>17703.000000</td>\n",
       "      <td>17703.000000</td>\n",
       "      <td>17703.000000</td>\n",
       "      <td>17703.000000</td>\n",
       "      <td>17703.000000</td>\n",
       "      <td>17703.000000</td>\n",
       "      <td>17703.000000</td>\n",
       "      <td>17703.000000</td>\n",
       "      <td>17703.000000</td>\n",
       "    </tr>\n",
       "    <tr>\n",
       "      <th>mean</th>\n",
       "      <td>336.753536</td>\n",
       "      <td>189.586115</td>\n",
       "      <td>4.497373</td>\n",
       "      <td>37.206236</td>\n",
       "      <td>13.373596</td>\n",
       "      <td>23.376322</td>\n",
       "      <td>0.762242</td>\n",
       "      <td>9.927918</td>\n",
       "      <td>2.994653</td>\n",
       "    </tr>\n",
       "    <tr>\n",
       "      <th>std</th>\n",
       "      <td>313.908815</td>\n",
       "      <td>169.851614</td>\n",
       "      <td>7.753699</td>\n",
       "      <td>45.750730</td>\n",
       "      <td>15.878655</td>\n",
       "      <td>26.299432</td>\n",
       "      <td>0.686651</td>\n",
       "      <td>9.284228</td>\n",
       "      <td>1.696013</td>\n",
       "    </tr>\n",
       "    <tr>\n",
       "      <th>min</th>\n",
       "      <td>0.000000</td>\n",
       "      <td>1.000000</td>\n",
       "      <td>1.000000</td>\n",
       "      <td>1.000000</td>\n",
       "      <td>1.000000</td>\n",
       "      <td>0.000000</td>\n",
       "      <td>0.000000</td>\n",
       "      <td>0.000000</td>\n",
       "      <td>0.000000</td>\n",
       "    </tr>\n",
       "    <tr>\n",
       "      <th>25%</th>\n",
       "      <td>139.195000</td>\n",
       "      <td>66.000000</td>\n",
       "      <td>1.000000</td>\n",
       "      <td>12.000000</td>\n",
       "      <td>4.920844</td>\n",
       "      <td>9.129474</td>\n",
       "      <td>0.380000</td>\n",
       "      <td>4.950000</td>\n",
       "      <td>1.943944</td>\n",
       "    </tr>\n",
       "    <tr>\n",
       "      <th>50%</th>\n",
       "      <td>282.120000</td>\n",
       "      <td>143.000000</td>\n",
       "      <td>2.000000</td>\n",
       "      <td>24.000000</td>\n",
       "      <td>9.500000</td>\n",
       "      <td>17.183448</td>\n",
       "      <td>0.420000</td>\n",
       "      <td>8.500000</td>\n",
       "      <td>2.723077</td>\n",
       "    </tr>\n",
       "    <tr>\n",
       "      <th>75%</th>\n",
       "      <td>426.080000</td>\n",
       "      <td>261.000000</td>\n",
       "      <td>4.000000</td>\n",
       "      <td>48.000000</td>\n",
       "      <td>14.875000</td>\n",
       "      <td>25.000000</td>\n",
       "      <td>0.850000</td>\n",
       "      <td>12.750000</td>\n",
       "      <td>3.750000</td>\n",
       "    </tr>\n",
       "    <tr>\n",
       "      <th>max</th>\n",
       "      <td>3978.990000</td>\n",
       "      <td>902.000000</td>\n",
       "      <td>67.000000</td>\n",
       "      <td>720.000000</td>\n",
       "      <td>306.000000</td>\n",
       "      <td>241.200000</td>\n",
       "      <td>4.000000</td>\n",
       "      <td>103.400000</td>\n",
       "      <td>15.984286</td>\n",
       "    </tr>\n",
       "  </tbody>\n",
       "</table>\n",
       "</div>"
      ],
      "text/plain": [
       "         TotalPrice  Quantity_sum  Quantity_min  Quantity_max  Quantity_mean  \\\n",
       "count  17703.000000  17703.000000  17703.000000  17703.000000   17703.000000   \n",
       "mean     336.753536    189.586115      4.497373     37.206236      13.373596   \n",
       "std      313.908815    169.851614      7.753699     45.750730      15.878655   \n",
       "min        0.000000      1.000000      1.000000      1.000000       1.000000   \n",
       "25%      139.195000     66.000000      1.000000     12.000000       4.920844   \n",
       "50%      282.120000    143.000000      2.000000     24.000000       9.500000   \n",
       "75%      426.080000    261.000000      4.000000     48.000000      14.875000   \n",
       "max     3978.990000    902.000000     67.000000    720.000000     306.000000   \n",
       "\n",
       "       Avg Cart Price  UnitPrice_min  UnitPrice_max  UnitPrice_mean  \n",
       "count    17703.000000   17703.000000   17703.000000    17703.000000  \n",
       "mean        23.376322       0.762242       9.927918        2.994653  \n",
       "std         26.299432       0.686651       9.284228        1.696013  \n",
       "min          0.000000       0.000000       0.000000        0.000000  \n",
       "25%          9.129474       0.380000       4.950000        1.943944  \n",
       "50%         17.183448       0.420000       8.500000        2.723077  \n",
       "75%         25.000000       0.850000      12.750000        3.750000  \n",
       "max        241.200000       4.000000     103.400000       15.984286  "
      ]
     },
     "execution_count": 42,
     "metadata": {},
     "output_type": "execute_result"
    }
   ],
   "source": [
    "final_data.describe()"
   ]
  },
  {
   "cell_type": "code",
   "execution_count": 180,
   "id": "b534da3e-295f-4be0-a673-4da4ec4b0bf1",
   "metadata": {},
   "outputs": [
    {
     "data": {
      "text/plain": [
       "<AxesSubplot:>"
      ]
     },
     "execution_count": 180,
     "metadata": {},
     "output_type": "execute_result"
    },
    {
     "data": {
      "image/png": "[encoded data removed]",
      "text/plain": [
       "<Figure size 2160x360 with 1 Axes>"
      ]
     },
     "metadata": {
      "needs_background": "light"
     },
     "output_type": "display_data"
    }
   ],
   "source": [
    "plt.figure(figsize=(30,5))\n",
    "final_data['TotalPrice'].plot(style=\".\")"
   ]
  },
  {
   "cell_type": "code",
   "execution_count": 45,
   "id": "8ac4cac8-c033-4603-8919-560bc03d9361",
   "metadata": {},
   "outputs": [],
   "source": [
    "corr = final_data.corr()"
   ]
  },
  {
   "cell_type": "code",
   "execution_count": 178,
   "id": "aa6c8f2a-cbae-40b8-9d94-7f80f934b884",
   "metadata": {},
   "outputs": [
    {
     "data": {
      "text/plain": [
       "<AxesSubplot:>"
      ]
     },
     "execution_count": 178,
     "metadata": {},
     "output_type": "execute_result"
    },
    {
     "data": {
      "image/png": "[encoded data removed]",
      "text/plain": [
       "<Figure size 1440x720 with 2 Axes>"
      ]
     },
     "metadata": {
      "needs_background": "light"
     },
     "output_type": "display_data"
    }
   ],
   "source": [
    "plt.figure(figsize=(20,10))\n",
    "sns.heatmap(corr, annot=True)"
   ]
  },
  {
   "cell_type": "code",
   "execution_count": 47,
   "id": "a9f73747-7501-4523-b88d-1042929cf979",
   "metadata": {},
   "outputs": [
    {
     "data": {
      "text/plain": [
       "Index(['InvoiceNo', 'TotalPrice', 'Quantity_sum', 'Quantity_min',\n",
       "       'Quantity_max', 'Quantity_mean', 'Avg Cart Price', 'UnitPrice_min',\n",
       "       'UnitPrice_max', 'UnitPrice_mean'],\n",
       "      dtype='object')"
      ]
     },
     "execution_count": 47,
     "metadata": {},
     "output_type": "execute_result"
    }
   ],
   "source": [
    "final_data.columns"
   ]
  },
  {
   "cell_type": "code",
   "execution_count": 48,
   "id": "4f0e4e1e-6c4e-4504-8df5-763f9f22abc7",
   "metadata": {},
   "outputs": [
    {
     "name": "stdout",
     "output_type": "stream",
     "text": [
      "['InvoiceNo', 'TotalPrice', 'Quantity_sum', 'Quantity_min', 'Quantity_max', 'Quantity_mean', 'Avg Cart Price', 'UnitPrice_min', 'UnitPrice_max', 'UnitPrice_mean']\n"
     ]
    }
   ],
   "source": [
    "cols = list(final_data.columns.values)\n",
    "print(cols)"
   ]
  },
  {
   "cell_type": "code",
   "execution_count": 49,
   "id": "73bddf7c-d63f-45a0-b7d1-812e202b2e29",
   "metadata": {},
   "outputs": [
    {
     "name": "stdout",
     "output_type": "stream",
     "text": [
      "['Quantity_sum', 'Quantity_min', 'Quantity_max', 'Quantity_mean', 'UnitPrice_min', 'UnitPrice_max', 'UnitPrice_mean']\n"
     ]
    }
   ],
   "source": [
    "cols.pop(cols.index('InvoiceNo'))\n",
    "cols.pop(cols.index('TotalPrice'))\n",
    "cols.pop(cols.index('Avg Cart Price'))\n",
    "print(cols)\n"
   ]
  },
  {
   "cell_type": "code",
   "execution_count": 50,
   "id": "422dde6a-da55-46bd-aa43-c170c46ba1f5",
   "metadata": {},
   "outputs": [
    {
     "name": "stdout",
     "output_type": "stream",
     "text": [
      "['Quantity_sum', 'Quantity_min', 'Quantity_max', 'Quantity_mean', 'UnitPrice_min', 'UnitPrice_max', 'UnitPrice_mean']\n"
     ]
    }
   ],
   "source": [
    "print(cols)"
   ]
  },
  {
   "cell_type": "code",
   "execution_count": 51,
   "id": "14ef9aaa-a3ea-415c-bb5a-e05dcb3bc5aa",
   "metadata": {},
   "outputs": [
    {
     "data": {
      "text/html": [
       "<div>\n",
       "<style scoped>\n",
       "    .dataframe tbody tr th:only-of-type {\n",
       "        vertical-align: middle;\n",
       "    }\n",
       "\n",
       "    .dataframe tbody tr th {\n",
       "        vertical-align: top;\n",
       "    }\n",
       "\n",
       "    .dataframe thead th {\n",
       "        text-align: right;\n",
       "    }\n",
       "</style>\n",
       "<table border=\"1\" class=\"dataframe\">\n",
       "  <thead>\n",
       "    <tr style=\"text-align: right;\">\n",
       "      <th></th>\n",
       "      <th>InvoiceNo</th>\n",
       "      <th>TotalPrice</th>\n",
       "      <th>Quantity_sum</th>\n",
       "      <th>Quantity_min</th>\n",
       "      <th>Quantity_max</th>\n",
       "      <th>Quantity_mean</th>\n",
       "      <th>Avg Cart Price</th>\n",
       "      <th>UnitPrice_min</th>\n",
       "      <th>UnitPrice_max</th>\n",
       "      <th>UnitPrice_mean</th>\n",
       "    </tr>\n",
       "  </thead>\n",
       "  <tbody>\n",
       "    <tr>\n",
       "      <th>0</th>\n",
       "      <td>536365</td>\n",
       "      <td>139.12</td>\n",
       "      <td>40</td>\n",
       "      <td>2</td>\n",
       "      <td>8</td>\n",
       "      <td>5.714286</td>\n",
       "      <td>19.874286</td>\n",
       "      <td>2.55</td>\n",
       "      <td>7.65</td>\n",
       "      <td>3.910000</td>\n",
       "    </tr>\n",
       "    <tr>\n",
       "      <th>1</th>\n",
       "      <td>536366</td>\n",
       "      <td>22.20</td>\n",
       "      <td>12</td>\n",
       "      <td>6</td>\n",
       "      <td>6</td>\n",
       "      <td>6.000000</td>\n",
       "      <td>11.100000</td>\n",
       "      <td>1.85</td>\n",
       "      <td>1.85</td>\n",
       "      <td>1.850000</td>\n",
       "    </tr>\n",
       "    <tr>\n",
       "      <th>2</th>\n",
       "      <td>536367</td>\n",
       "      <td>278.73</td>\n",
       "      <td>83</td>\n",
       "      <td>2</td>\n",
       "      <td>32</td>\n",
       "      <td>6.916667</td>\n",
       "      <td>23.227500</td>\n",
       "      <td>1.65</td>\n",
       "      <td>9.95</td>\n",
       "      <td>4.853333</td>\n",
       "    </tr>\n",
       "    <tr>\n",
       "      <th>5</th>\n",
       "      <td>536370</td>\n",
       "      <td>855.86</td>\n",
       "      <td>449</td>\n",
       "      <td>3</td>\n",
       "      <td>48</td>\n",
       "      <td>22.450000</td>\n",
       "      <td>42.793000</td>\n",
       "      <td>0.42</td>\n",
       "      <td>18.00</td>\n",
       "      <td>2.764500</td>\n",
       "    </tr>\n",
       "    <tr>\n",
       "      <th>7</th>\n",
       "      <td>536372</td>\n",
       "      <td>22.20</td>\n",
       "      <td>12</td>\n",
       "      <td>6</td>\n",
       "      <td>6</td>\n",
       "      <td>6.000000</td>\n",
       "      <td>11.100000</td>\n",
       "      <td>1.85</td>\n",
       "      <td>1.85</td>\n",
       "      <td>1.850000</td>\n",
       "    </tr>\n",
       "  </tbody>\n",
       "</table>\n",
       "</div>"
      ],
      "text/plain": [
       "  InvoiceNo  TotalPrice  Quantity_sum  Quantity_min  Quantity_max  \\\n",
       "0    536365      139.12            40             2             8   \n",
       "1    536366       22.20            12             6             6   \n",
       "2    536367      278.73            83             2            32   \n",
       "5    536370      855.86           449             3            48   \n",
       "7    536372       22.20            12             6             6   \n",
       "\n",
       "   Quantity_mean  Avg Cart Price  UnitPrice_min  UnitPrice_max  UnitPrice_mean  \n",
       "0       5.714286       19.874286           2.55           7.65        3.910000  \n",
       "1       6.000000       11.100000           1.85           1.85        1.850000  \n",
       "2       6.916667       23.227500           1.65           9.95        4.853333  \n",
       "5      22.450000       42.793000           0.42          18.00        2.764500  \n",
       "7       6.000000       11.100000           1.85           1.85        1.850000  "
      ]
     },
     "execution_count": 51,
     "metadata": {},
     "output_type": "execute_result"
    }
   ],
   "source": [
    "final_data.head()"
   ]
  },
  {
   "cell_type": "code",
   "execution_count": 101,
   "id": "dc925431-aa76-4375-8bee-7dad84ed0a18",
   "metadata": {},
   "outputs": [],
   "source": [
    "new_data = final_data.drop(['InvoiceNo','Avg Cart Price','Quantity_sum','UnitPrice_mean'], axis=1)"
   ]
  },
  {
   "cell_type": "code",
   "execution_count": 102,
   "id": "2c58500a-12a9-4570-83fe-029a064eeba0",
   "metadata": {},
   "outputs": [
    {
     "data": {
      "text/html": [
       "<div>\n",
       "<style scoped>\n",
       "    .dataframe tbody tr th:only-of-type {\n",
       "        vertical-align: middle;\n",
       "    }\n",
       "\n",
       "    .dataframe tbody tr th {\n",
       "        vertical-align: top;\n",
       "    }\n",
       "\n",
       "    .dataframe thead th {\n",
       "        text-align: right;\n",
       "    }\n",
       "</style>\n",
       "<table border=\"1\" class=\"dataframe\">\n",
       "  <thead>\n",
       "    <tr style=\"text-align: right;\">\n",
       "      <th></th>\n",
       "      <th>TotalPrice</th>\n",
       "      <th>Quantity_min</th>\n",
       "      <th>Quantity_max</th>\n",
       "      <th>Quantity_mean</th>\n",
       "      <th>UnitPrice_min</th>\n",
       "      <th>UnitPrice_max</th>\n",
       "    </tr>\n",
       "  </thead>\n",
       "  <tbody>\n",
       "    <tr>\n",
       "      <th>0</th>\n",
       "      <td>139.12</td>\n",
       "      <td>2</td>\n",
       "      <td>8</td>\n",
       "      <td>5.714286</td>\n",
       "      <td>2.55</td>\n",
       "      <td>7.65</td>\n",
       "    </tr>\n",
       "    <tr>\n",
       "      <th>1</th>\n",
       "      <td>22.20</td>\n",
       "      <td>6</td>\n",
       "      <td>6</td>\n",
       "      <td>6.000000</td>\n",
       "      <td>1.85</td>\n",
       "      <td>1.85</td>\n",
       "    </tr>\n",
       "    <tr>\n",
       "      <th>2</th>\n",
       "      <td>278.73</td>\n",
       "      <td>2</td>\n",
       "      <td>32</td>\n",
       "      <td>6.916667</td>\n",
       "      <td>1.65</td>\n",
       "      <td>9.95</td>\n",
       "    </tr>\n",
       "    <tr>\n",
       "      <th>5</th>\n",
       "      <td>855.86</td>\n",
       "      <td>3</td>\n",
       "      <td>48</td>\n",
       "      <td>22.450000</td>\n",
       "      <td>0.42</td>\n",
       "      <td>18.00</td>\n",
       "    </tr>\n",
       "    <tr>\n",
       "      <th>7</th>\n",
       "      <td>22.20</td>\n",
       "      <td>6</td>\n",
       "      <td>6</td>\n",
       "      <td>6.000000</td>\n",
       "      <td>1.85</td>\n",
       "      <td>1.85</td>\n",
       "    </tr>\n",
       "  </tbody>\n",
       "</table>\n",
       "</div>"
      ],
      "text/plain": [
       "   TotalPrice  Quantity_min  Quantity_max  Quantity_mean  UnitPrice_min  \\\n",
       "0      139.12             2             8       5.714286           2.55   \n",
       "1       22.20             6             6       6.000000           1.85   \n",
       "2      278.73             2            32       6.916667           1.65   \n",
       "5      855.86             3            48      22.450000           0.42   \n",
       "7       22.20             6             6       6.000000           1.85   \n",
       "\n",
       "   UnitPrice_max  \n",
       "0           7.65  \n",
       "1           1.85  \n",
       "2           9.95  \n",
       "5          18.00  \n",
       "7           1.85  "
      ]
     },
     "execution_count": 102,
     "metadata": {},
     "output_type": "execute_result"
    }
   ],
   "source": [
    "new_data.head()"
   ]
  },
  {
   "cell_type": "code",
   "execution_count": 103,
   "id": "bfcc808c-b6b1-44ce-ae8b-1d4d4c0368ac",
   "metadata": {},
   "outputs": [
    {
     "data": {
      "text/plain": [
       "Index(['TotalPrice', 'Quantity_min', 'Quantity_max', 'Quantity_mean',\n",
       "       'UnitPrice_min', 'UnitPrice_max'],\n",
       "      dtype='object')"
      ]
     },
     "execution_count": 103,
     "metadata": {},
     "output_type": "execute_result"
    }
   ],
   "source": [
    "new_data.columns"
   ]
  },
  {
   "cell_type": "code",
   "execution_count": 104,
   "id": "048f9952-99d3-4d5f-b96d-3bb2531bb753",
   "metadata": {},
   "outputs": [
    {
     "data": {
      "text/html": [
       "<div>\n",
       "<style scoped>\n",
       "    .dataframe tbody tr th:only-of-type {\n",
       "        vertical-align: middle;\n",
       "    }\n",
       "\n",
       "    .dataframe tbody tr th {\n",
       "        vertical-align: top;\n",
       "    }\n",
       "\n",
       "    .dataframe thead th {\n",
       "        text-align: right;\n",
       "    }\n",
       "</style>\n",
       "<table border=\"1\" class=\"dataframe\">\n",
       "  <thead>\n",
       "    <tr style=\"text-align: right;\">\n",
       "      <th></th>\n",
       "      <th>TotalPrice</th>\n",
       "      <th>Quantity_min</th>\n",
       "      <th>Quantity_max</th>\n",
       "      <th>Quantity_mean</th>\n",
       "      <th>UnitPrice_min</th>\n",
       "      <th>UnitPrice_max</th>\n",
       "    </tr>\n",
       "  </thead>\n",
       "  <tbody>\n",
       "    <tr>\n",
       "      <th>0</th>\n",
       "      <td>139.12</td>\n",
       "      <td>2</td>\n",
       "      <td>8</td>\n",
       "      <td>5.714286</td>\n",
       "      <td>2.55</td>\n",
       "      <td>7.65</td>\n",
       "    </tr>\n",
       "    <tr>\n",
       "      <th>1</th>\n",
       "      <td>22.20</td>\n",
       "      <td>6</td>\n",
       "      <td>6</td>\n",
       "      <td>6.000000</td>\n",
       "      <td>1.85</td>\n",
       "      <td>1.85</td>\n",
       "    </tr>\n",
       "    <tr>\n",
       "      <th>2</th>\n",
       "      <td>278.73</td>\n",
       "      <td>2</td>\n",
       "      <td>32</td>\n",
       "      <td>6.916667</td>\n",
       "      <td>1.65</td>\n",
       "      <td>9.95</td>\n",
       "    </tr>\n",
       "    <tr>\n",
       "      <th>5</th>\n",
       "      <td>855.86</td>\n",
       "      <td>3</td>\n",
       "      <td>48</td>\n",
       "      <td>22.450000</td>\n",
       "      <td>0.42</td>\n",
       "      <td>18.00</td>\n",
       "    </tr>\n",
       "    <tr>\n",
       "      <th>7</th>\n",
       "      <td>22.20</td>\n",
       "      <td>6</td>\n",
       "      <td>6</td>\n",
       "      <td>6.000000</td>\n",
       "      <td>1.85</td>\n",
       "      <td>1.85</td>\n",
       "    </tr>\n",
       "  </tbody>\n",
       "</table>\n",
       "</div>"
      ],
      "text/plain": [
       "   TotalPrice  Quantity_min  Quantity_max  Quantity_mean  UnitPrice_min  \\\n",
       "0      139.12             2             8       5.714286           2.55   \n",
       "1       22.20             6             6       6.000000           1.85   \n",
       "2      278.73             2            32       6.916667           1.65   \n",
       "5      855.86             3            48      22.450000           0.42   \n",
       "7       22.20             6             6       6.000000           1.85   \n",
       "\n",
       "   UnitPrice_max  \n",
       "0           7.65  \n",
       "1           1.85  \n",
       "2           9.95  \n",
       "5          18.00  \n",
       "7           1.85  "
      ]
     },
     "execution_count": 104,
     "metadata": {},
     "output_type": "execute_result"
    }
   ],
   "source": [
    "new_data.head()"
   ]
  },
  {
   "cell_type": "code",
   "execution_count": 105,
   "id": "3a76fab8-8e0e-4dce-a9de-eb684b9b7913",
   "metadata": {},
   "outputs": [],
   "source": [
    "norm_data = preprocessing.normalize(new_data)"
   ]
  },
  {
   "cell_type": "code",
   "execution_count": 106,
   "id": "a159738b-23e5-4997-86c8-451e6b4c561a",
   "metadata": {},
   "outputs": [
    {
     "data": {
      "text/plain": [
       "array([[9.95747165e-01, 1.43149391e-02, 5.72597565e-02, 4.08998261e-02,\n",
       "        1.82515474e-02, 5.47546421e-02],\n",
       "       [9.00562205e-01, 2.43395190e-01, 2.43395190e-01, 2.43395190e-01,\n",
       "        7.50468504e-02, 7.50468504e-02],\n",
       "       [9.92506503e-01, 7.12163386e-03, 1.13946142e-01, 2.46289838e-02,\n",
       "        5.87534794e-03, 3.54301285e-02],\n",
       "       ...,\n",
       "       [9.96121986e-01, 9.08179899e-03, 7.56816583e-02, 4.00752400e-02,\n",
       "        5.75180603e-04, 1.80122347e-02],\n",
       "       [9.95708542e-01, 2.34836920e-02, 7.04510761e-02, 4.84351148e-02,\n",
       "        3.66932688e-03, 2.62723804e-02],\n",
       "       [9.98179160e-01, 1.20045600e-02, 4.80182398e-02, 2.80106399e-02,\n",
       "        3.40129199e-03, 1.98075239e-02]])"
      ]
     },
     "execution_count": 106,
     "metadata": {},
     "output_type": "execute_result"
    }
   ],
   "source": [
    "norm_data"
   ]
  },
  {
   "cell_type": "code",
   "execution_count": 107,
   "id": "2ca34a0b-6fb6-46a8-919e-5e6c699ea0d5",
   "metadata": {},
   "outputs": [],
   "source": [
    "norm_data_df = pd.DataFrame(norm_data, columns=new_data.columns)"
   ]
  },
  {
   "cell_type": "code",
   "execution_count": 108,
   "id": "f2f253d6-1e8c-4e3c-a680-0f9851504b1a",
   "metadata": {},
   "outputs": [
    {
     "data": {
      "text/html": [
       "<div>\n",
       "<style scoped>\n",
       "    .dataframe tbody tr th:only-of-type {\n",
       "        vertical-align: middle;\n",
       "    }\n",
       "\n",
       "    .dataframe tbody tr th {\n",
       "        vertical-align: top;\n",
       "    }\n",
       "\n",
       "    .dataframe thead th {\n",
       "        text-align: right;\n",
       "    }\n",
       "</style>\n",
       "<table border=\"1\" class=\"dataframe\">\n",
       "  <thead>\n",
       "    <tr style=\"text-align: right;\">\n",
       "      <th></th>\n",
       "      <th>TotalPrice</th>\n",
       "      <th>Quantity_min</th>\n",
       "      <th>Quantity_max</th>\n",
       "      <th>Quantity_mean</th>\n",
       "      <th>UnitPrice_min</th>\n",
       "      <th>UnitPrice_max</th>\n",
       "    </tr>\n",
       "  </thead>\n",
       "  <tbody>\n",
       "    <tr>\n",
       "      <th>0</th>\n",
       "      <td>0.995747</td>\n",
       "      <td>0.014315</td>\n",
       "      <td>0.057260</td>\n",
       "      <td>0.040900</td>\n",
       "      <td>0.018252</td>\n",
       "      <td>0.054755</td>\n",
       "    </tr>\n",
       "    <tr>\n",
       "      <th>1</th>\n",
       "      <td>0.900562</td>\n",
       "      <td>0.243395</td>\n",
       "      <td>0.243395</td>\n",
       "      <td>0.243395</td>\n",
       "      <td>0.075047</td>\n",
       "      <td>0.075047</td>\n",
       "    </tr>\n",
       "    <tr>\n",
       "      <th>2</th>\n",
       "      <td>0.992507</td>\n",
       "      <td>0.007122</td>\n",
       "      <td>0.113946</td>\n",
       "      <td>0.024629</td>\n",
       "      <td>0.005875</td>\n",
       "      <td>0.035430</td>\n",
       "    </tr>\n",
       "    <tr>\n",
       "      <th>3</th>\n",
       "      <td>0.997863</td>\n",
       "      <td>0.003498</td>\n",
       "      <td>0.055964</td>\n",
       "      <td>0.026175</td>\n",
       "      <td>0.000490</td>\n",
       "      <td>0.020987</td>\n",
       "    </tr>\n",
       "    <tr>\n",
       "      <th>4</th>\n",
       "      <td>0.900562</td>\n",
       "      <td>0.243395</td>\n",
       "      <td>0.243395</td>\n",
       "      <td>0.243395</td>\n",
       "      <td>0.075047</td>\n",
       "      <td>0.075047</td>\n",
       "    </tr>\n",
       "  </tbody>\n",
       "</table>\n",
       "</div>"
      ],
      "text/plain": [
       "   TotalPrice  Quantity_min  Quantity_max  Quantity_mean  UnitPrice_min  \\\n",
       "0    0.995747      0.014315      0.057260       0.040900       0.018252   \n",
       "1    0.900562      0.243395      0.243395       0.243395       0.075047   \n",
       "2    0.992507      0.007122      0.113946       0.024629       0.005875   \n",
       "3    0.997863      0.003498      0.055964       0.026175       0.000490   \n",
       "4    0.900562      0.243395      0.243395       0.243395       0.075047   \n",
       "\n",
       "   UnitPrice_max  \n",
       "0       0.054755  \n",
       "1       0.075047  \n",
       "2       0.035430  \n",
       "3       0.020987  \n",
       "4       0.075047  "
      ]
     },
     "execution_count": 108,
     "metadata": {},
     "output_type": "execute_result"
    }
   ],
   "source": [
    "norm_data_df.head()"
   ]
  },
  {
   "cell_type": "code",
   "execution_count": 184,
   "id": "0a7806a1-b992-4180-95cb-ce5603bc6536",
   "metadata": {},
   "outputs": [
    {
     "data": {
      "image/png": "[encoded data removed]",
      "text/plain": [
       "<Figure size 1440x504 with 1 Axes>"
      ]
     },
     "metadata": {
      "needs_background": "light"
     },
     "output_type": "display_data"
    }
   ],
   "source": [
    "errors = []\n",
    "for k in range(1,10):\n",
    "    model = KMeans(n_clusters=k, random_state=42)\n",
    "    model.fit(norm_data)\n",
    "    errors.append(model.inertia_)\n",
    "\n",
    "plt.figure(figsize=(20,7))\n",
    "plt.title('The Elbow Method')\n",
    "plt.xlabel('k'); plt.ylabel('Error of Cluster')\n",
    "sns.pointplot(x=list(range(1, 10)), y=errors)\n",
    "plt.show()"
   ]
  },
  {
   "cell_type": "code",
   "execution_count": 219,
   "id": "3300d962-a858-4bca-9f2b-2d5cdf42bc1d",
   "metadata": {},
   "outputs": [],
   "source": [
    "kmeans = KMeans(n_clusters=3, random_state=0, n_init='auto')\n",
    "labels = kmeans.fit(norm_data_df)"
   ]
  },
  {
   "cell_type": "code",
   "execution_count": 220,
   "id": "dd83f8e1-aa7d-4b87-a74c-e418131f527b",
   "metadata": {},
   "outputs": [
    {
     "data": {
      "text/html": [
       "<div>\n",
       "<style scoped>\n",
       "    .dataframe tbody tr th:only-of-type {\n",
       "        vertical-align: middle;\n",
       "    }\n",
       "\n",
       "    .dataframe tbody tr th {\n",
       "        vertical-align: top;\n",
       "    }\n",
       "\n",
       "    .dataframe thead th {\n",
       "        text-align: right;\n",
       "    }\n",
       "</style>\n",
       "<table border=\"1\" class=\"dataframe\">\n",
       "  <thead>\n",
       "    <tr style=\"text-align: right;\">\n",
       "      <th></th>\n",
       "      <th>TotalPrice</th>\n",
       "      <th>Quantity_min</th>\n",
       "      <th>Quantity_max</th>\n",
       "      <th>Quantity_mean</th>\n",
       "      <th>UnitPrice_min</th>\n",
       "      <th>UnitPrice_max</th>\n",
       "    </tr>\n",
       "  </thead>\n",
       "  <tbody>\n",
       "    <tr>\n",
       "      <th>0</th>\n",
       "      <td>0.995747</td>\n",
       "      <td>0.014315</td>\n",
       "      <td>0.057260</td>\n",
       "      <td>0.040900</td>\n",
       "      <td>0.018252</td>\n",
       "      <td>0.054755</td>\n",
       "    </tr>\n",
       "    <tr>\n",
       "      <th>1</th>\n",
       "      <td>0.900562</td>\n",
       "      <td>0.243395</td>\n",
       "      <td>0.243395</td>\n",
       "      <td>0.243395</td>\n",
       "      <td>0.075047</td>\n",
       "      <td>0.075047</td>\n",
       "    </tr>\n",
       "    <tr>\n",
       "      <th>2</th>\n",
       "      <td>0.992507</td>\n",
       "      <td>0.007122</td>\n",
       "      <td>0.113946</td>\n",
       "      <td>0.024629</td>\n",
       "      <td>0.005875</td>\n",
       "      <td>0.035430</td>\n",
       "    </tr>\n",
       "    <tr>\n",
       "      <th>3</th>\n",
       "      <td>0.997863</td>\n",
       "      <td>0.003498</td>\n",
       "      <td>0.055964</td>\n",
       "      <td>0.026175</td>\n",
       "      <td>0.000490</td>\n",
       "      <td>0.020987</td>\n",
       "    </tr>\n",
       "    <tr>\n",
       "      <th>4</th>\n",
       "      <td>0.900562</td>\n",
       "      <td>0.243395</td>\n",
       "      <td>0.243395</td>\n",
       "      <td>0.243395</td>\n",
       "      <td>0.075047</td>\n",
       "      <td>0.075047</td>\n",
       "    </tr>\n",
       "  </tbody>\n",
       "</table>\n",
       "</div>"
      ],
      "text/plain": [
       "   TotalPrice  Quantity_min  Quantity_max  Quantity_mean  UnitPrice_min  \\\n",
       "0    0.995747      0.014315      0.057260       0.040900       0.018252   \n",
       "1    0.900562      0.243395      0.243395       0.243395       0.075047   \n",
       "2    0.992507      0.007122      0.113946       0.024629       0.005875   \n",
       "3    0.997863      0.003498      0.055964       0.026175       0.000490   \n",
       "4    0.900562      0.243395      0.243395       0.243395       0.075047   \n",
       "\n",
       "   UnitPrice_max  \n",
       "0       0.054755  \n",
       "1       0.075047  \n",
       "2       0.035430  \n",
       "3       0.020987  \n",
       "4       0.075047  "
      ]
     },
     "execution_count": 220,
     "metadata": {},
     "output_type": "execute_result"
    }
   ],
   "source": [
    "norm_data_df.head()"
   ]
  },
  {
   "cell_type": "code",
   "execution_count": 221,
   "id": "f0deccb3-5d03-464b-b626-2e91892e88c7",
   "metadata": {},
   "outputs": [
    {
     "data": {
      "text/plain": [
       "<AxesSubplot:xlabel='TotalPrice', ylabel='Quantity_mean'>"
      ]
     },
     "execution_count": 221,
     "metadata": {},
     "output_type": "execute_result"
    },
    {
     "data": {
      "image/png": "[encoded data removed]",
      "text/plain": [
       "<Figure size 1440x504 with 1 Axes>"
      ]
     },
     "metadata": {
      "needs_background": "light"
     },
     "output_type": "display_data"
    }
   ],
   "source": [
    "plt.figure(figsize=(20,7))\n",
    "sns.scatterplot(data=norm_data_df, x='TotalPrice', y='Quantity_mean', hue=kmeans.labels_, palette= 'bright')"
   ]
  },
  {
   "cell_type": "code",
   "execution_count": 222,
   "id": "c370f0b9-2ab7-44c2-b7c4-2167d3674463",
   "metadata": {},
   "outputs": [
    {
     "data": {
      "text/plain": [
       "<AxesSubplot:ylabel='Quantity_min'>"
      ]
     },
     "execution_count": 222,
     "metadata": {},
     "output_type": "execute_result"
    },
    {
     "data": {
      "image/png": "[encoded data removed]",
      "text/plain": [
       "<Figure size 432x288 with 1 Axes>"
      ]
     },
     "metadata": {
      "needs_background": "light"
     },
     "output_type": "display_data"
    }
   ],
   "source": [
    "sns.boxplot(x = kmeans.labels_, y = norm_data_df['Quantity_min'])"
   ]
  },
  {
   "cell_type": "code",
   "execution_count": 223,
   "id": "ff9c0c25-c408-45df-b221-e876becad7fa",
   "metadata": {},
   "outputs": [
    {
     "data": {
      "text/plain": [
       "0.7038992095754113"
      ]
     },
     "execution_count": 223,
     "metadata": {},
     "output_type": "execute_result"
    }
   ],
   "source": [
    "from sklearn.metrics import silhouette_score\n",
    "\n",
    "silhouette_score(norm_data_df, kmeans.labels_, metric='euclidean')"
   ]
  },
  {
   "cell_type": "code",
   "execution_count": 212,
   "id": "7297c52c-3847-401c-9e7e-621460bfcc82",
   "metadata": {},
   "outputs": [
    {
     "data": {
      "text/html": [
       "<div>\n",
       "<style scoped>\n",
       "    .dataframe tbody tr th:only-of-type {\n",
       "        vertical-align: middle;\n",
       "    }\n",
       "\n",
       "    .dataframe tbody tr th {\n",
       "        vertical-align: top;\n",
       "    }\n",
       "\n",
       "    .dataframe thead th {\n",
       "        text-align: right;\n",
       "    }\n",
       "</style>\n",
       "<table border=\"1\" class=\"dataframe\">\n",
       "  <thead>\n",
       "    <tr style=\"text-align: right;\">\n",
       "      <th></th>\n",
       "      <th>TotalPrice</th>\n",
       "      <th>Quantity_min</th>\n",
       "      <th>Quantity_max</th>\n",
       "      <th>Quantity_mean</th>\n",
       "      <th>UnitPrice_min</th>\n",
       "      <th>UnitPrice_max</th>\n",
       "    </tr>\n",
       "  </thead>\n",
       "  <tbody>\n",
       "    <tr>\n",
       "      <th>0</th>\n",
       "      <td>139.12</td>\n",
       "      <td>2</td>\n",
       "      <td>8</td>\n",
       "      <td>5.714286</td>\n",
       "      <td>2.55</td>\n",
       "      <td>7.65</td>\n",
       "    </tr>\n",
       "    <tr>\n",
       "      <th>1</th>\n",
       "      <td>22.20</td>\n",
       "      <td>6</td>\n",
       "      <td>6</td>\n",
       "      <td>6.000000</td>\n",
       "      <td>1.85</td>\n",
       "      <td>1.85</td>\n",
       "    </tr>\n",
       "    <tr>\n",
       "      <th>2</th>\n",
       "      <td>278.73</td>\n",
       "      <td>2</td>\n",
       "      <td>32</td>\n",
       "      <td>6.916667</td>\n",
       "      <td>1.65</td>\n",
       "      <td>9.95</td>\n",
       "    </tr>\n",
       "    <tr>\n",
       "      <th>5</th>\n",
       "      <td>855.86</td>\n",
       "      <td>3</td>\n",
       "      <td>48</td>\n",
       "      <td>22.450000</td>\n",
       "      <td>0.42</td>\n",
       "      <td>18.00</td>\n",
       "    </tr>\n",
       "    <tr>\n",
       "      <th>7</th>\n",
       "      <td>22.20</td>\n",
       "      <td>6</td>\n",
       "      <td>6</td>\n",
       "      <td>6.000000</td>\n",
       "      <td>1.85</td>\n",
       "      <td>1.85</td>\n",
       "    </tr>\n",
       "  </tbody>\n",
       "</table>\n",
       "</div>"
      ],
      "text/plain": [
       "   TotalPrice  Quantity_min  Quantity_max  Quantity_mean  UnitPrice_min  \\\n",
       "0      139.12             2             8       5.714286           2.55   \n",
       "1       22.20             6             6       6.000000           1.85   \n",
       "2      278.73             2            32       6.916667           1.65   \n",
       "5      855.86             3            48      22.450000           0.42   \n",
       "7       22.20             6             6       6.000000           1.85   \n",
       "\n",
       "   UnitPrice_max  \n",
       "0           7.65  \n",
       "1           1.85  \n",
       "2           9.95  \n",
       "5          18.00  \n",
       "7           1.85  "
      ]
     },
     "execution_count": 212,
     "metadata": {},
     "output_type": "execute_result"
    }
   ],
   "source": [
    "new_data.head()"
   ]
  },
  {
   "cell_type": "code",
   "execution_count": 116,
   "id": "2ddabb90-160d-4239-b669-a33f608ea216",
   "metadata": {},
   "outputs": [],
   "source": [
    "final_data.loc[:,'cluster'] = kmeans.labels_"
   ]
  },
  {
   "cell_type": "code",
   "execution_count": 117,
   "id": "0256920b-172b-4760-9191-1dd430b0c091",
   "metadata": {},
   "outputs": [
    {
     "data": {
      "text/html": [
       "<div>\n",
       "<style scoped>\n",
       "    .dataframe tbody tr th:only-of-type {\n",
       "        vertical-align: middle;\n",
       "    }\n",
       "\n",
       "    .dataframe tbody tr th {\n",
       "        vertical-align: top;\n",
       "    }\n",
       "\n",
       "    .dataframe thead th {\n",
       "        text-align: right;\n",
       "    }\n",
       "</style>\n",
       "<table border=\"1\" class=\"dataframe\">\n",
       "  <thead>\n",
       "    <tr style=\"text-align: right;\">\n",
       "      <th></th>\n",
       "      <th>InvoiceNo</th>\n",
       "      <th>TotalPrice</th>\n",
       "      <th>Quantity_sum</th>\n",
       "      <th>Quantity_min</th>\n",
       "      <th>Quantity_max</th>\n",
       "      <th>Quantity_mean</th>\n",
       "      <th>Avg Cart Price</th>\n",
       "      <th>UnitPrice_min</th>\n",
       "      <th>UnitPrice_max</th>\n",
       "      <th>UnitPrice_mean</th>\n",
       "      <th>cluster</th>\n",
       "    </tr>\n",
       "  </thead>\n",
       "  <tbody>\n",
       "    <tr>\n",
       "      <th>0</th>\n",
       "      <td>536365</td>\n",
       "      <td>139.12</td>\n",
       "      <td>40</td>\n",
       "      <td>2</td>\n",
       "      <td>8</td>\n",
       "      <td>5.714286</td>\n",
       "      <td>19.874286</td>\n",
       "      <td>2.55</td>\n",
       "      <td>7.65</td>\n",
       "      <td>3.910000</td>\n",
       "      <td>0</td>\n",
       "    </tr>\n",
       "    <tr>\n",
       "      <th>1</th>\n",
       "      <td>536366</td>\n",
       "      <td>22.20</td>\n",
       "      <td>12</td>\n",
       "      <td>6</td>\n",
       "      <td>6</td>\n",
       "      <td>6.000000</td>\n",
       "      <td>11.100000</td>\n",
       "      <td>1.85</td>\n",
       "      <td>1.85</td>\n",
       "      <td>1.850000</td>\n",
       "      <td>2</td>\n",
       "    </tr>\n",
       "    <tr>\n",
       "      <th>2</th>\n",
       "      <td>536367</td>\n",
       "      <td>278.73</td>\n",
       "      <td>83</td>\n",
       "      <td>2</td>\n",
       "      <td>32</td>\n",
       "      <td>6.916667</td>\n",
       "      <td>23.227500</td>\n",
       "      <td>1.65</td>\n",
       "      <td>9.95</td>\n",
       "      <td>4.853333</td>\n",
       "      <td>0</td>\n",
       "    </tr>\n",
       "    <tr>\n",
       "      <th>5</th>\n",
       "      <td>536370</td>\n",
       "      <td>855.86</td>\n",
       "      <td>449</td>\n",
       "      <td>3</td>\n",
       "      <td>48</td>\n",
       "      <td>22.450000</td>\n",
       "      <td>42.793000</td>\n",
       "      <td>0.42</td>\n",
       "      <td>18.00</td>\n",
       "      <td>2.764500</td>\n",
       "      <td>0</td>\n",
       "    </tr>\n",
       "    <tr>\n",
       "      <th>7</th>\n",
       "      <td>536372</td>\n",
       "      <td>22.20</td>\n",
       "      <td>12</td>\n",
       "      <td>6</td>\n",
       "      <td>6</td>\n",
       "      <td>6.000000</td>\n",
       "      <td>11.100000</td>\n",
       "      <td>1.85</td>\n",
       "      <td>1.85</td>\n",
       "      <td>1.850000</td>\n",
       "      <td>2</td>\n",
       "    </tr>\n",
       "  </tbody>\n",
       "</table>\n",
       "</div>"
      ],
      "text/plain": [
       "  InvoiceNo  TotalPrice  Quantity_sum  Quantity_min  Quantity_max  \\\n",
       "0    536365      139.12            40             2             8   \n",
       "1    536366       22.20            12             6             6   \n",
       "2    536367      278.73            83             2            32   \n",
       "5    536370      855.86           449             3            48   \n",
       "7    536372       22.20            12             6             6   \n",
       "\n",
       "   Quantity_mean  Avg Cart Price  UnitPrice_min  UnitPrice_max  \\\n",
       "0       5.714286       19.874286           2.55           7.65   \n",
       "1       6.000000       11.100000           1.85           1.85   \n",
       "2       6.916667       23.227500           1.65           9.95   \n",
       "5      22.450000       42.793000           0.42          18.00   \n",
       "7       6.000000       11.100000           1.85           1.85   \n",
       "\n",
       "   UnitPrice_mean  cluster  \n",
       "0        3.910000        0  \n",
       "1        1.850000        2  \n",
       "2        4.853333        0  \n",
       "5        2.764500        0  \n",
       "7        1.850000        2  "
      ]
     },
     "execution_count": 117,
     "metadata": {},
     "output_type": "execute_result"
    }
   ],
   "source": [
    "final_data.head()"
   ]
  },
  {
   "cell_type": "code",
   "execution_count": 118,
   "id": "3473bf8b-55f0-4ab9-83eb-20fbaf97abe0",
   "metadata": {},
   "outputs": [
    {
     "data": {
      "text/plain": [
       "array([0, 2, 1])"
      ]
     },
     "execution_count": 118,
     "metadata": {},
     "output_type": "execute_result"
    }
   ],
   "source": [
    "final_data['cluster'].unique()"
   ]
  },
  {
   "cell_type": "code",
   "execution_count": 119,
   "id": "03715681-3688-4481-be21-17ab1aab69d4",
   "metadata": {},
   "outputs": [
    {
     "data": {
      "image/png": "[encoded data removed]",
      "text/plain": [
       "<Figure size 432x288 with 1 Axes>"
      ]
     },
     "metadata": {
      "needs_background": "light"
     },
     "output_type": "display_data"
    }
   ],
   "source": [
    "cluster_dist = final_data.groupby('cluster')['InvoiceNo'].count().reset_index()\n",
    "sns.barplot(data=cluster_dist, x='cluster', y='InvoiceNo')\n",
    "for index, value in enumerate(cluster_dist['InvoiceNo']):\n",
    "    plt.text(index, value, f'{value:.2f}', ha='center', va='bottom')"
   ]
  },
  {
   "cell_type": "code",
   "execution_count": 120,
   "id": "8ca2f9d4-bb60-4ad1-ab56-24d7fdeff6cc",
   "metadata": {},
   "outputs": [
    {
     "data": {
      "text/html": [
       "<div>\n",
       "<style scoped>\n",
       "    .dataframe tbody tr th:only-of-type {\n",
       "        vertical-align: middle;\n",
       "    }\n",
       "\n",
       "    .dataframe tbody tr th {\n",
       "        vertical-align: top;\n",
       "    }\n",
       "\n",
       "    .dataframe thead th {\n",
       "        text-align: right;\n",
       "    }\n",
       "</style>\n",
       "<table border=\"1\" class=\"dataframe\">\n",
       "  <thead>\n",
       "    <tr style=\"text-align: right;\">\n",
       "      <th></th>\n",
       "      <th>InvoiceNo</th>\n",
       "      <th>TotalPrice</th>\n",
       "      <th>Quantity_sum</th>\n",
       "      <th>Quantity_min</th>\n",
       "      <th>Quantity_max</th>\n",
       "      <th>Quantity_mean</th>\n",
       "      <th>Avg Cart Price</th>\n",
       "      <th>UnitPrice_min</th>\n",
       "      <th>UnitPrice_max</th>\n",
       "      <th>UnitPrice_mean</th>\n",
       "      <th>cluster</th>\n",
       "    </tr>\n",
       "  </thead>\n",
       "  <tbody>\n",
       "    <tr>\n",
       "      <th>0</th>\n",
       "      <td>536365</td>\n",
       "      <td>139.12</td>\n",
       "      <td>40</td>\n",
       "      <td>2</td>\n",
       "      <td>8</td>\n",
       "      <td>5.714286</td>\n",
       "      <td>19.874286</td>\n",
       "      <td>2.55</td>\n",
       "      <td>7.65</td>\n",
       "      <td>3.91</td>\n",
       "      <td>0</td>\n",
       "    </tr>\n",
       "    <tr>\n",
       "      <th>1</th>\n",
       "      <td>536366</td>\n",
       "      <td>22.20</td>\n",
       "      <td>12</td>\n",
       "      <td>6</td>\n",
       "      <td>6</td>\n",
       "      <td>6.000000</td>\n",
       "      <td>11.100000</td>\n",
       "      <td>1.85</td>\n",
       "      <td>1.85</td>\n",
       "      <td>1.85</td>\n",
       "      <td>2</td>\n",
       "    </tr>\n",
       "  </tbody>\n",
       "</table>\n",
       "</div>"
      ],
      "text/plain": [
       "  InvoiceNo  TotalPrice  Quantity_sum  Quantity_min  Quantity_max  \\\n",
       "0    536365      139.12            40             2             8   \n",
       "1    536366       22.20            12             6             6   \n",
       "\n",
       "   Quantity_mean  Avg Cart Price  UnitPrice_min  UnitPrice_max  \\\n",
       "0       5.714286       19.874286           2.55           7.65   \n",
       "1       6.000000       11.100000           1.85           1.85   \n",
       "\n",
       "   UnitPrice_mean  cluster  \n",
       "0            3.91        0  \n",
       "1            1.85        2  "
      ]
     },
     "execution_count": 120,
     "metadata": {},
     "output_type": "execute_result"
    }
   ],
   "source": [
    "final_data.head(2)"
   ]
  },
  {
   "cell_type": "code",
   "execution_count": 121,
   "id": "ea988315-4618-44be-b4b0-faec53f5d9a8",
   "metadata": {},
   "outputs": [
    {
     "data": {
      "text/plain": [
       "cluster\n",
       "0    380.701180\n",
       "1      4.011570\n",
       "2    130.164786\n",
       "Name: TotalPrice, dtype: float64"
      ]
     },
     "execution_count": 121,
     "metadata": {},
     "output_type": "execute_result"
    }
   ],
   "source": [
    "final_data.groupby('cluster')['TotalPrice'].mean()"
   ]
  },
  {
   "cell_type": "code",
   "execution_count": 122,
   "id": "8ed4ceb0-a224-4d19-b954-3c915a64e57e",
   "metadata": {},
   "outputs": [
    {
     "data": {
      "image/png": "[encoded data removed]",
      "text/plain": [
       "<Figure size 432x288 with 1 Axes>"
      ]
     },
     "metadata": {
      "needs_background": "light"
     },
     "output_type": "display_data"
    }
   ],
   "source": [
    "tprice_dist = final_data.groupby('cluster')['TotalPrice'].mean().reset_index()\n",
    "sns.barplot(data=tprice_dist, x='cluster', y='TotalPrice')\n",
    "for index, value in enumerate(tprice_dist['TotalPrice']):\n",
    "    plt.text(index, value, f'{value:.2f}', ha='center', va='bottom')"
   ]
  },
  {
   "cell_type": "code",
   "execution_count": 123,
   "id": "96aabadc-33f8-4b20-8d4f-143a5f6a163f",
   "metadata": {},
   "outputs": [
    {
     "data": {
      "text/html": [
       "<div>\n",
       "<style scoped>\n",
       "    .dataframe tbody tr th:only-of-type {\n",
       "        vertical-align: middle;\n",
       "    }\n",
       "\n",
       "    .dataframe tbody tr th {\n",
       "        vertical-align: top;\n",
       "    }\n",
       "\n",
       "    .dataframe thead th {\n",
       "        text-align: right;\n",
       "    }\n",
       "</style>\n",
       "<table border=\"1\" class=\"dataframe\">\n",
       "  <thead>\n",
       "    <tr style=\"text-align: right;\">\n",
       "      <th></th>\n",
       "      <th>InvoiceNo</th>\n",
       "      <th>TotalPrice</th>\n",
       "      <th>Quantity_sum</th>\n",
       "      <th>Quantity_min</th>\n",
       "      <th>Quantity_max</th>\n",
       "      <th>Quantity_mean</th>\n",
       "      <th>Avg Cart Price</th>\n",
       "      <th>UnitPrice_min</th>\n",
       "      <th>UnitPrice_max</th>\n",
       "      <th>UnitPrice_mean</th>\n",
       "      <th>cluster</th>\n",
       "    </tr>\n",
       "  </thead>\n",
       "  <tbody>\n",
       "    <tr>\n",
       "      <th>0</th>\n",
       "      <td>536365</td>\n",
       "      <td>139.12</td>\n",
       "      <td>40</td>\n",
       "      <td>2</td>\n",
       "      <td>8</td>\n",
       "      <td>5.714286</td>\n",
       "      <td>19.874286</td>\n",
       "      <td>2.55</td>\n",
       "      <td>7.65</td>\n",
       "      <td>3.910000</td>\n",
       "      <td>0</td>\n",
       "    </tr>\n",
       "    <tr>\n",
       "      <th>1</th>\n",
       "      <td>536366</td>\n",
       "      <td>22.20</td>\n",
       "      <td>12</td>\n",
       "      <td>6</td>\n",
       "      <td>6</td>\n",
       "      <td>6.000000</td>\n",
       "      <td>11.100000</td>\n",
       "      <td>1.85</td>\n",
       "      <td>1.85</td>\n",
       "      <td>1.850000</td>\n",
       "      <td>2</td>\n",
       "    </tr>\n",
       "    <tr>\n",
       "      <th>2</th>\n",
       "      <td>536367</td>\n",
       "      <td>278.73</td>\n",
       "      <td>83</td>\n",
       "      <td>2</td>\n",
       "      <td>32</td>\n",
       "      <td>6.916667</td>\n",
       "      <td>23.227500</td>\n",
       "      <td>1.65</td>\n",
       "      <td>9.95</td>\n",
       "      <td>4.853333</td>\n",
       "      <td>0</td>\n",
       "    </tr>\n",
       "    <tr>\n",
       "      <th>5</th>\n",
       "      <td>536370</td>\n",
       "      <td>855.86</td>\n",
       "      <td>449</td>\n",
       "      <td>3</td>\n",
       "      <td>48</td>\n",
       "      <td>22.450000</td>\n",
       "      <td>42.793000</td>\n",
       "      <td>0.42</td>\n",
       "      <td>18.00</td>\n",
       "      <td>2.764500</td>\n",
       "      <td>0</td>\n",
       "    </tr>\n",
       "    <tr>\n",
       "      <th>7</th>\n",
       "      <td>536372</td>\n",
       "      <td>22.20</td>\n",
       "      <td>12</td>\n",
       "      <td>6</td>\n",
       "      <td>6</td>\n",
       "      <td>6.000000</td>\n",
       "      <td>11.100000</td>\n",
       "      <td>1.85</td>\n",
       "      <td>1.85</td>\n",
       "      <td>1.850000</td>\n",
       "      <td>2</td>\n",
       "    </tr>\n",
       "  </tbody>\n",
       "</table>\n",
       "</div>"
      ],
      "text/plain": [
       "  InvoiceNo  TotalPrice  Quantity_sum  Quantity_min  Quantity_max  \\\n",
       "0    536365      139.12            40             2             8   \n",
       "1    536366       22.20            12             6             6   \n",
       "2    536367      278.73            83             2            32   \n",
       "5    536370      855.86           449             3            48   \n",
       "7    536372       22.20            12             6             6   \n",
       "\n",
       "   Quantity_mean  Avg Cart Price  UnitPrice_min  UnitPrice_max  \\\n",
       "0       5.714286       19.874286           2.55           7.65   \n",
       "1       6.000000       11.100000           1.85           1.85   \n",
       "2       6.916667       23.227500           1.65           9.95   \n",
       "5      22.450000       42.793000           0.42          18.00   \n",
       "7       6.000000       11.100000           1.85           1.85   \n",
       "\n",
       "   UnitPrice_mean  cluster  \n",
       "0        3.910000        0  \n",
       "1        1.850000        2  \n",
       "2        4.853333        0  \n",
       "5        2.764500        0  \n",
       "7        1.850000        2  "
      ]
     },
     "execution_count": 123,
     "metadata": {},
     "output_type": "execute_result"
    }
   ],
   "source": [
    "final_data.head()"
   ]
  },
  {
   "cell_type": "code",
   "execution_count": 124,
   "id": "9a2f2a11-f296-4e14-945c-8cf27d3a2f53",
   "metadata": {},
   "outputs": [
    {
     "data": {
      "image/png": "[encoded data removed]",
      "text/plain": [
       "<Figure size 432x288 with 1 Axes>"
      ]
     },
     "metadata": {
      "needs_background": "light"
     },
     "output_type": "display_data"
    }
   ],
   "source": [
    "quantity_dist = final_data.groupby('cluster')['Quantity_mean'].mean().reset_index()\n",
    "sns.barplot(data=quantity_dist, x='cluster', y='Quantity_mean')\n",
    "for index, value in enumerate(quantity_dist['Quantity_mean']):\n",
    "    plt.text(index, value, f'{value:.2f}', ha='center', va='bottom')"
   ]
  },
  {
   "cell_type": "code",
   "execution_count": 125,
   "id": "360ef553-32ec-4571-9039-7a523a5da979",
   "metadata": {},
   "outputs": [
    {
     "name": "stdout",
     "output_type": "stream",
     "text": [
      "InvoiceNo          object\n",
      "TotalPrice        float64\n",
      "Quantity_sum        int64\n",
      "Quantity_min        int64\n",
      "Quantity_max        int64\n",
      "Quantity_mean     float64\n",
      "Avg Cart Price    float64\n",
      "UnitPrice_min     float64\n",
      "UnitPrice_max     float64\n",
      "UnitPrice_mean    float64\n",
      "cluster             int32\n",
      "dtype: object\n"
     ]
    }
   ],
   "source": [
    "print(final_data.dtypes)"
   ]
  },
  {
   "cell_type": "code",
   "execution_count": 126,
   "id": "6cab910a-108c-4400-a73f-9544075ec889",
   "metadata": {},
   "outputs": [
    {
     "data": {
      "text/plain": [
       "Index(['InvoiceNo', 'TotalPrice', 'Quantity_sum', 'Quantity_min',\n",
       "       'Quantity_max', 'Quantity_mean', 'Avg Cart Price', 'UnitPrice_min',\n",
       "       'UnitPrice_max', 'UnitPrice_mean', 'cluster'],\n",
       "      dtype='object')"
      ]
     },
     "execution_count": 126,
     "metadata": {},
     "output_type": "execute_result"
    }
   ],
   "source": [
    "final_data.columns"
   ]
  },
  {
   "cell_type": "code",
   "execution_count": 127,
   "id": "7bc2a0a0-a700-414b-ac18-a7199155ced8",
   "metadata": {},
   "outputs": [
    {
     "data": {
      "text/html": [
       "<div>\n",
       "<style scoped>\n",
       "    .dataframe tbody tr th:only-of-type {\n",
       "        vertical-align: middle;\n",
       "    }\n",
       "\n",
       "    .dataframe tbody tr th {\n",
       "        vertical-align: top;\n",
       "    }\n",
       "\n",
       "    .dataframe thead th {\n",
       "        text-align: right;\n",
       "    }\n",
       "</style>\n",
       "<table border=\"1\" class=\"dataframe\">\n",
       "  <thead>\n",
       "    <tr style=\"text-align: right;\">\n",
       "      <th></th>\n",
       "      <th>InvoiceNo</th>\n",
       "      <th>TotalPrice</th>\n",
       "      <th>Quantity_sum</th>\n",
       "      <th>Quantity_min</th>\n",
       "      <th>Quantity_max</th>\n",
       "      <th>Quantity_mean</th>\n",
       "      <th>Avg Cart Price</th>\n",
       "      <th>UnitPrice_min</th>\n",
       "      <th>UnitPrice_max</th>\n",
       "      <th>UnitPrice_mean</th>\n",
       "      <th>cluster</th>\n",
       "    </tr>\n",
       "  </thead>\n",
       "  <tbody>\n",
       "    <tr>\n",
       "      <th>0</th>\n",
       "      <td>536365</td>\n",
       "      <td>139.12</td>\n",
       "      <td>40</td>\n",
       "      <td>2</td>\n",
       "      <td>8</td>\n",
       "      <td>5.714286</td>\n",
       "      <td>19.874286</td>\n",
       "      <td>2.55</td>\n",
       "      <td>7.65</td>\n",
       "      <td>3.910000</td>\n",
       "      <td>0</td>\n",
       "    </tr>\n",
       "    <tr>\n",
       "      <th>1</th>\n",
       "      <td>536366</td>\n",
       "      <td>22.20</td>\n",
       "      <td>12</td>\n",
       "      <td>6</td>\n",
       "      <td>6</td>\n",
       "      <td>6.000000</td>\n",
       "      <td>11.100000</td>\n",
       "      <td>1.85</td>\n",
       "      <td>1.85</td>\n",
       "      <td>1.850000</td>\n",
       "      <td>2</td>\n",
       "    </tr>\n",
       "    <tr>\n",
       "      <th>2</th>\n",
       "      <td>536367</td>\n",
       "      <td>278.73</td>\n",
       "      <td>83</td>\n",
       "      <td>2</td>\n",
       "      <td>32</td>\n",
       "      <td>6.916667</td>\n",
       "      <td>23.227500</td>\n",
       "      <td>1.65</td>\n",
       "      <td>9.95</td>\n",
       "      <td>4.853333</td>\n",
       "      <td>0</td>\n",
       "    </tr>\n",
       "    <tr>\n",
       "      <th>5</th>\n",
       "      <td>536370</td>\n",
       "      <td>855.86</td>\n",
       "      <td>449</td>\n",
       "      <td>3</td>\n",
       "      <td>48</td>\n",
       "      <td>22.450000</td>\n",
       "      <td>42.793000</td>\n",
       "      <td>0.42</td>\n",
       "      <td>18.00</td>\n",
       "      <td>2.764500</td>\n",
       "      <td>0</td>\n",
       "    </tr>\n",
       "    <tr>\n",
       "      <th>7</th>\n",
       "      <td>536372</td>\n",
       "      <td>22.20</td>\n",
       "      <td>12</td>\n",
       "      <td>6</td>\n",
       "      <td>6</td>\n",
       "      <td>6.000000</td>\n",
       "      <td>11.100000</td>\n",
       "      <td>1.85</td>\n",
       "      <td>1.85</td>\n",
       "      <td>1.850000</td>\n",
       "      <td>2</td>\n",
       "    </tr>\n",
       "  </tbody>\n",
       "</table>\n",
       "</div>"
      ],
      "text/plain": [
       "  InvoiceNo  TotalPrice  Quantity_sum  Quantity_min  Quantity_max  \\\n",
       "0    536365      139.12            40             2             8   \n",
       "1    536366       22.20            12             6             6   \n",
       "2    536367      278.73            83             2            32   \n",
       "5    536370      855.86           449             3            48   \n",
       "7    536372       22.20            12             6             6   \n",
       "\n",
       "   Quantity_mean  Avg Cart Price  UnitPrice_min  UnitPrice_max  \\\n",
       "0       5.714286       19.874286           2.55           7.65   \n",
       "1       6.000000       11.100000           1.85           1.85   \n",
       "2       6.916667       23.227500           1.65           9.95   \n",
       "5      22.450000       42.793000           0.42          18.00   \n",
       "7       6.000000       11.100000           1.85           1.85   \n",
       "\n",
       "   UnitPrice_mean  cluster  \n",
       "0        3.910000        0  \n",
       "1        1.850000        2  \n",
       "2        4.853333        0  \n",
       "5        2.764500        0  \n",
       "7        1.850000        2  "
      ]
     },
     "execution_count": 127,
     "metadata": {},
     "output_type": "execute_result"
    }
   ],
   "source": [
    "final_data.head()"
   ]
  },
  {
   "cell_type": "markdown",
   "id": "54926cfd-b468-4ac6-989c-e0f43d26e4ff",
   "metadata": {},
   "source": [
    "### Now we will ask some questions to analyze the cluster:"
   ]
  },
  {
   "cell_type": "markdown",
   "id": "e8fbe881-5d37-485b-bfae-9b6d4e826d76",
   "metadata": {},
   "source": [
    "#### 1. How many data points are in each cluster?"
   ]
  },
  {
   "cell_type": "code",
   "execution_count": 128,
   "id": "164d2ce7-26b6-46e1-a56c-fafb9c07d57a",
   "metadata": {},
   "outputs": [
    {
     "data": {
      "image/png": "[encoded data removed]",
      "text/plain": [
       "<Figure size 432x288 with 1 Axes>"
      ]
     },
     "metadata": {
      "needs_background": "light"
     },
     "output_type": "display_data"
    }
   ],
   "source": [
    "cluster_dist = final_data.groupby('cluster')['InvoiceNo'].count().reset_index()\n",
    "sns.barplot(data=cluster_dist, x='cluster', y='InvoiceNo')\n",
    "for index, value in enumerate(cluster_dist['InvoiceNo']):\n",
    "    plt.text(index, value, f'{value:.2f}', ha='center', va='bottom')\n",
    "    plt.title('People in each cluster', loc= 'center')"
   ]
  },
  {
   "cell_type": "markdown",
   "id": "1fe0b588-2510-42d5-b66f-c649a450bfc7",
   "metadata": {},
   "source": [
    "#### 2. What is the total sales value for each cluster?"
   ]
  },
  {
   "cell_type": "code",
   "execution_count": 129,
   "id": "6618ee95-fcd5-4c07-af5c-64dc31aacdda",
   "metadata": {},
   "outputs": [
    {
     "data": {
      "image/png": "[encoded data removed]",
      "text/plain": [
       "<Figure size 432x288 with 1 Axes>"
      ]
     },
     "metadata": {
      "needs_background": "light"
     },
     "output_type": "display_data"
    }
   ],
   "source": [
    "tprice_dist = final_data.groupby('cluster')['TotalPrice'].mean().reset_index()\n",
    "sns.barplot(data=tprice_dist, x='cluster', y='TotalPrice')\n",
    "for index, value in enumerate(tprice_dist['TotalPrice']):\n",
    "    plt.text(index, value, f'{value:.2f}', ha='center', va='bottom')"
   ]
  },
  {
   "cell_type": "markdown",
   "id": "09020d74-995a-4995-8f4a-510123023de7",
   "metadata": {},
   "source": [
    "#### 3. How are the clusters distributed across the dataset?"
   ]
  },
  {
   "cell_type": "code",
   "execution_count": 224,
   "id": "e497411f-a68d-413b-9394-00b6e1e6a61a",
   "metadata": {},
   "outputs": [
    {
     "ename": "ValueError",
     "evalue": "Could not interpret input 'TotalPrice'",
     "output_type": "error",
     "traceback": [
      "\u001b[1;31m---------------------------------------------------------------------------\u001b[0m",
      "\u001b[1;31mValueError\u001b[0m                                Traceback (most recent call last)",
      "\u001b[1;32m<ipython-input-224-5b24f763e2b8>\u001b[0m in \u001b[0;36m<module>\u001b[1;34m\u001b[0m\n\u001b[0;32m      6\u001b[0m \u001b[1;31m# Create violin plot using the sampled data\u001b[0m\u001b[1;33m\u001b[0m\u001b[1;33m\u001b[0m\u001b[1;33m\u001b[0m\u001b[0m\n\u001b[0;32m      7\u001b[0m \u001b[0mplt\u001b[0m\u001b[1;33m.\u001b[0m\u001b[0mfigure\u001b[0m\u001b[1;33m(\u001b[0m\u001b[0mfigsize\u001b[0m\u001b[1;33m=\u001b[0m\u001b[1;33m(\u001b[0m\u001b[1;36m20\u001b[0m\u001b[1;33m,\u001b[0m\u001b[1;36m7\u001b[0m\u001b[1;33m)\u001b[0m\u001b[1;33m)\u001b[0m\u001b[1;33m\u001b[0m\u001b[1;33m\u001b[0m\u001b[0m\n\u001b[1;32m----> 8\u001b[1;33m \u001b[0msns\u001b[0m\u001b[1;33m.\u001b[0m\u001b[0mviolinplot\u001b[0m\u001b[1;33m(\u001b[0m\u001b[0msampled_data\u001b[0m\u001b[1;33m,\u001b[0m \u001b[0mx\u001b[0m\u001b[1;33m=\u001b[0m\u001b[1;34m'cluster'\u001b[0m\u001b[1;33m,\u001b[0m \u001b[0my\u001b[0m\u001b[1;33m=\u001b[0m\u001b[1;34m'TotalPrice'\u001b[0m\u001b[1;33m)\u001b[0m\u001b[1;33m\u001b[0m\u001b[1;33m\u001b[0m\u001b[0m\n\u001b[0m",
      "\u001b[1;32m~\\anaconda3\\lib\\site-packages\\seaborn\\_decorators.py\u001b[0m in \u001b[0;36minner_f\u001b[1;34m(*args, **kwargs)\u001b[0m\n\u001b[0;32m     44\u001b[0m             )\n\u001b[0;32m     45\u001b[0m         \u001b[0mkwargs\u001b[0m\u001b[1;33m.\u001b[0m\u001b[0mupdate\u001b[0m\u001b[1;33m(\u001b[0m\u001b[1;33m{\u001b[0m\u001b[0mk\u001b[0m\u001b[1;33m:\u001b[0m \u001b[0marg\u001b[0m \u001b[1;32mfor\u001b[0m \u001b[0mk\u001b[0m\u001b[1;33m,\u001b[0m \u001b[0marg\u001b[0m \u001b[1;32min\u001b[0m \u001b[0mzip\u001b[0m\u001b[1;33m(\u001b[0m\u001b[0msig\u001b[0m\u001b[1;33m.\u001b[0m\u001b[0mparameters\u001b[0m\u001b[1;33m,\u001b[0m \u001b[0margs\u001b[0m\u001b[1;33m)\u001b[0m\u001b[1;33m}\u001b[0m\u001b[1;33m)\u001b[0m\u001b[1;33m\u001b[0m\u001b[1;33m\u001b[0m\u001b[0m\n\u001b[1;32m---> 46\u001b[1;33m         \u001b[1;32mreturn\u001b[0m \u001b[0mf\u001b[0m\u001b[1;33m(\u001b[0m\u001b[1;33m**\u001b[0m\u001b[0mkwargs\u001b[0m\u001b[1;33m)\u001b[0m\u001b[1;33m\u001b[0m\u001b[1;33m\u001b[0m\u001b[0m\n\u001b[0m\u001b[0;32m     47\u001b[0m     \u001b[1;32mreturn\u001b[0m \u001b[0minner_f\u001b[0m\u001b[1;33m\u001b[0m\u001b[1;33m\u001b[0m\u001b[0m\n\u001b[0;32m     48\u001b[0m \u001b[1;33m\u001b[0m\u001b[0m\n",
      "\u001b[1;32m~\\anaconda3\\lib\\site-packages\\seaborn\\categorical.py\u001b[0m in \u001b[0;36mviolinplot\u001b[1;34m(x, y, hue, data, order, hue_order, bw, cut, scale, scale_hue, gridsize, width, inner, split, dodge, orient, linewidth, color, palette, saturation, ax, **kwargs)\u001b[0m\n\u001b[0;32m   2395\u001b[0m ):\n\u001b[0;32m   2396\u001b[0m \u001b[1;33m\u001b[0m\u001b[0m\n\u001b[1;32m-> 2397\u001b[1;33m     plotter = _ViolinPlotter(x, y, hue, data, order, hue_order,\n\u001b[0m\u001b[0;32m   2398\u001b[0m                              \u001b[0mbw\u001b[0m\u001b[1;33m,\u001b[0m \u001b[0mcut\u001b[0m\u001b[1;33m,\u001b[0m \u001b[0mscale\u001b[0m\u001b[1;33m,\u001b[0m \u001b[0mscale_hue\u001b[0m\u001b[1;33m,\u001b[0m \u001b[0mgridsize\u001b[0m\u001b[1;33m,\u001b[0m\u001b[1;33m\u001b[0m\u001b[1;33m\u001b[0m\u001b[0m\n\u001b[0;32m   2399\u001b[0m                              \u001b[0mwidth\u001b[0m\u001b[1;33m,\u001b[0m \u001b[0minner\u001b[0m\u001b[1;33m,\u001b[0m \u001b[0msplit\u001b[0m\u001b[1;33m,\u001b[0m \u001b[0mdodge\u001b[0m\u001b[1;33m,\u001b[0m \u001b[0morient\u001b[0m\u001b[1;33m,\u001b[0m \u001b[0mlinewidth\u001b[0m\u001b[1;33m,\u001b[0m\u001b[1;33m\u001b[0m\u001b[1;33m\u001b[0m\u001b[0m\n",
      "\u001b[1;32m~\\anaconda3\\lib\\site-packages\\seaborn\\categorical.py\u001b[0m in \u001b[0;36m__init__\u001b[1;34m(self, x, y, hue, data, order, hue_order, bw, cut, scale, scale_hue, gridsize, width, inner, split, dodge, orient, linewidth, color, palette, saturation)\u001b[0m\n\u001b[0;32m    520\u001b[0m                  color, palette, saturation):\n\u001b[0;32m    521\u001b[0m \u001b[1;33m\u001b[0m\u001b[0m\n\u001b[1;32m--> 522\u001b[1;33m         \u001b[0mself\u001b[0m\u001b[1;33m.\u001b[0m\u001b[0mestablish_variables\u001b[0m\u001b[1;33m(\u001b[0m\u001b[0mx\u001b[0m\u001b[1;33m,\u001b[0m \u001b[0my\u001b[0m\u001b[1;33m,\u001b[0m \u001b[0mhue\u001b[0m\u001b[1;33m,\u001b[0m \u001b[0mdata\u001b[0m\u001b[1;33m,\u001b[0m \u001b[0morient\u001b[0m\u001b[1;33m,\u001b[0m \u001b[0morder\u001b[0m\u001b[1;33m,\u001b[0m \u001b[0mhue_order\u001b[0m\u001b[1;33m)\u001b[0m\u001b[1;33m\u001b[0m\u001b[1;33m\u001b[0m\u001b[0m\n\u001b[0m\u001b[0;32m    523\u001b[0m         \u001b[0mself\u001b[0m\u001b[1;33m.\u001b[0m\u001b[0mestablish_colors\u001b[0m\u001b[1;33m(\u001b[0m\u001b[0mcolor\u001b[0m\u001b[1;33m,\u001b[0m \u001b[0mpalette\u001b[0m\u001b[1;33m,\u001b[0m \u001b[0msaturation\u001b[0m\u001b[1;33m)\u001b[0m\u001b[1;33m\u001b[0m\u001b[1;33m\u001b[0m\u001b[0m\n\u001b[0;32m    524\u001b[0m         \u001b[0mself\u001b[0m\u001b[1;33m.\u001b[0m\u001b[0mestimate_densities\u001b[0m\u001b[1;33m(\u001b[0m\u001b[0mbw\u001b[0m\u001b[1;33m,\u001b[0m \u001b[0mcut\u001b[0m\u001b[1;33m,\u001b[0m \u001b[0mscale\u001b[0m\u001b[1;33m,\u001b[0m \u001b[0mscale_hue\u001b[0m\u001b[1;33m,\u001b[0m \u001b[0mgridsize\u001b[0m\u001b[1;33m)\u001b[0m\u001b[1;33m\u001b[0m\u001b[1;33m\u001b[0m\u001b[0m\n",
      "\u001b[1;32m~\\anaconda3\\lib\\site-packages\\seaborn\\categorical.py\u001b[0m in \u001b[0;36mestablish_variables\u001b[1;34m(self, x, y, hue, data, orient, order, hue_order, units)\u001b[0m\n\u001b[0;32m    151\u001b[0m                 \u001b[1;32mif\u001b[0m \u001b[0misinstance\u001b[0m\u001b[1;33m(\u001b[0m\u001b[0mvar\u001b[0m\u001b[1;33m,\u001b[0m \u001b[0mstr\u001b[0m\u001b[1;33m)\u001b[0m\u001b[1;33m:\u001b[0m\u001b[1;33m\u001b[0m\u001b[1;33m\u001b[0m\u001b[0m\n\u001b[0;32m    152\u001b[0m                     \u001b[0merr\u001b[0m \u001b[1;33m=\u001b[0m \u001b[1;34m\"Could not interpret input '{}'\"\u001b[0m\u001b[1;33m.\u001b[0m\u001b[0mformat\u001b[0m\u001b[1;33m(\u001b[0m\u001b[0mvar\u001b[0m\u001b[1;33m)\u001b[0m\u001b[1;33m\u001b[0m\u001b[1;33m\u001b[0m\u001b[0m\n\u001b[1;32m--> 153\u001b[1;33m                     \u001b[1;32mraise\u001b[0m \u001b[0mValueError\u001b[0m\u001b[1;33m(\u001b[0m\u001b[0merr\u001b[0m\u001b[1;33m)\u001b[0m\u001b[1;33m\u001b[0m\u001b[1;33m\u001b[0m\u001b[0m\n\u001b[0m\u001b[0;32m    154\u001b[0m \u001b[1;33m\u001b[0m\u001b[0m\n\u001b[0;32m    155\u001b[0m             \u001b[1;31m# Figure out the plotting orientation\u001b[0m\u001b[1;33m\u001b[0m\u001b[1;33m\u001b[0m\u001b[1;33m\u001b[0m\u001b[0m\n",
      "\u001b[1;31mValueError\u001b[0m: Could not interpret input 'TotalPrice'"
     ]
    },
    {
     "data": {
      "text/plain": [
       "<Figure size 1440x504 with 0 Axes>"
      ]
     },
     "metadata": {},
     "output_type": "display_data"
    }
   ],
   "source": [
    "import random\n",
    "\n",
    "# Sample 1000 data points\n",
    "sampled_data = final_data.sample(n=2000, random_state=42)\n",
    "\n",
    "# Create violin plot using the sampled data\n",
    "plt.figure(figsize=(20,7))\n",
    "sns.violinplot(data=final_data, x=\"cluster\", y=\"class\")"
   ]
  },
  {
   "cell_type": "code",
   "execution_count": null,
   "id": "18a74c14-4c56-49d4-9d4e-6120b434045e",
   "metadata": {},
   "outputs": [],
   "source": []
  }
 ],
 "metadata": {
  "kernelspec": {
   "display_name": "Python 3",
   "language": "python",
   "name": "python3"
  },
  "language_info": {
   "codemirror_mode": {
    "name": "ipython",
    "version": 3
   },
   "file_extension": ".py",
   "mimetype": "text/x-python",
   "name": "python",
   "nbconvert_exporter": "python",
   "pygments_lexer": "ipython3",
   "version": "3.8.8"
  },
  "widgets": {
   "application/vnd.jupyter.widget-state+json": {
    "state": {},
    "version_major": 2,
    "version_minor": 0
   }
  }
 },
 "nbformat": 4,
 "nbformat_minor": 5
}
